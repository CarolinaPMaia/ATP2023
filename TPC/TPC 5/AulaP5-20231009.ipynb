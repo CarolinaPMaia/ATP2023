{
 "cells": [
  {
   "cell_type": "markdown",
   "id": "1e545158",
   "metadata": {},
   "source": [
    "# Aula Prática 5 (guião)\n",
    "### Semana de 9 a 13 de Outubro de 2023\n",
    "### José Carlos Ramalho e Luís Cunha\n",
    "### Sinopsis:\n",
    "Algoritmos e modelação de problemas com listas e listas de listas."
   ]
  },
  {
   "cell_type": "markdown",
   "id": "1d9c2fbc",
   "metadata": {},
   "source": [
    "### Exercício 1 (repescado): estaOrdenada\n",
    "- Defina uma função que recebe uma lista de números e verifica se a mesma está ordenada por ordem crescente dando como resultado um valor **True** ou **False**."
   ]
  },
  {
   "cell_type": "code",
   "execution_count": 19,
   "id": "fb44546a",
   "metadata": {},
   "outputs": [
    {
     "name": "stdout",
     "output_type": "stream",
     "text": [
      "False True\n"
     ]
    }
   ],
   "source": [
    "# Solução do exercício 1\n",
    "def estaOrdenada(lista):\n",
    "    resultado = True \n",
    "    tam = len(lista)\n",
    "    for n in range(0, len(lista)-1):\n",
    "        if lista[n]>lista[n+1]:\n",
    "            resultado = False\n",
    "    return resultado \n",
    "    \n",
    "        \n",
    "\n",
    "listaA = [2,7,5,6,8]\n",
    "listaB = [2,5,6,7,8]\n",
    "print(estaOrdenada(listaA), estaOrdenada(listaB))"
   ]
  },
  {
   "cell_type": "code",
   "execution_count": 18,
   "id": "079bb29f",
   "metadata": {},
   "outputs": [
    {
     "name": "stdout",
     "output_type": "stream",
     "text": [
      "False True\n"
     ]
    }
   ],
   "source": [
    "# Outra Solução do exercício 1  \n",
    "def estaOrdenada(lista):\n",
    "    resultado = True \n",
    "    n = 0\n",
    "    while n < len(lista) - 1:\n",
    "        if lista[n]>lista[n+1]:\n",
    "            resultado = False\n",
    "        n = n + 1\n",
    "    return resultado \n",
    "\n",
    "listaA = [2,7,5,6,8]\n",
    "listaB = [2,5,6,7,8]\n",
    "print(estaOrdenada(listaA), estaOrdenada(listaB))"
   ]
  },
  {
   "cell_type": "markdown",
   "id": "274abafd",
   "metadata": {},
   "source": [
    "### Exercício 2: ordenaLista\n",
    "\n",
    "* Defina uma função que recebe uma lista de números e que dá como resultado uma nova lista ordenada de forma crescente: pode usar o método _sort_, mas se o fizer implemente uma segunda solução recorrendo a um ciclo _while_."
   ]
  },
  {
   "cell_type": "code",
   "execution_count": 21,
   "id": "368aa7cd",
   "metadata": {},
   "outputs": [
    {
     "name": "stdout",
     "output_type": "stream",
     "text": [
      "[1, 3, 4, 5, 6, 7, 9, 10]\n"
     ]
    }
   ],
   "source": [
    "# Solução do exercício 2\n",
    "# no sort a lista original é ordenada \n",
    "def ordenaLista(lista):\n",
    "\n",
    "    lista.sort()\n",
    "\n",
    "    return lista\n",
    "    \n",
    "\n",
    "\n",
    "listaA=[1,5,9,3,4,7,10,6]\n",
    "print(ordenaLista(listaA))"
   ]
  },
  {
   "cell_type": "code",
   "execution_count": 20,
   "id": "ffe09dd0",
   "metadata": {},
   "outputs": [
    {
     "name": "stdout",
     "output_type": "stream",
     "text": [
      "[1, 3, 4, 5, 6, 7, 9, 10]\n"
     ]
    }
   ],
   "source": [
    "# a sorted devolve uma nova lista ordenada\n",
    "def ordenaLista(lista):\n",
    "\n",
    "    return sorted(lista)\n",
    "\n",
    "listaA=[1,5,9,3,4,7,10,6]\n",
    "print(ordenaLista(listaA))\n",
    "    "
   ]
  },
  {
   "cell_type": "code",
   "execution_count": 23,
   "id": "7b65e80c",
   "metadata": {},
   "outputs": [
    {
     "name": "stdout",
     "output_type": "stream",
     "text": [
      "[1, 3, 4, 5, 6, 7, 9, 10]\n"
     ]
    }
   ],
   "source": [
    "def ordenaLista(lista):\n",
    "\n",
    "    t = len(lista)\n",
    "\n",
    "    while t > 0:\n",
    "        for n in range(len(lista)-1):\n",
    "            if lista[n] > lista[n+1]:\n",
    "                lista[n], lista[n+1] = lista[n+1], lista[n]\n",
    "        t = t - 1\n",
    "    \n",
    "    return lista\n",
    "\n",
    "listaA=[1,5,9,3,4,7,10,6]\n",
    "print(ordenaLista(listaA))\n"
   ]
  },
  {
   "cell_type": "code",
   "execution_count": 15,
   "id": "a7b451c0",
   "metadata": {},
   "outputs": [
    {
     "name": "stdout",
     "output_type": "stream",
     "text": [
      "[3, 5, 7, 9]\n"
     ]
    }
   ],
   "source": [
    "#outra forma \n",
    "\n",
    "def ordenaLista(lista):\n",
    "    n=len(lista)\n",
    "\n",
    "    while n > 0:\n",
    "        i = 1\n",
    "        while i < n:\n",
    "            if lista[i-1] > lista[i]:\n",
    "                aux = lista[i]\n",
    "                lista[i] = lista[i-1]\n",
    "                lista[i-1] = aux \n",
    "            i = i+1\n",
    "        n = n-1\n",
    "    return lista\n",
    "\n",
    "\n",
    "listaA=[7, 9, 3, 5]\n",
    "print(ordenaLista(listaA))"
   ]
  },
  {
   "cell_type": "code",
   "execution_count": 19,
   "id": "16d3daa6",
   "metadata": {},
   "outputs": [
    {
     "name": "stdout",
     "output_type": "stream",
     "text": [
      "[1, 3, 5, 7, 10, 22]\n"
     ]
    }
   ],
   "source": [
    "#outra forma \n",
    "#quando a cond ficar false acaba o ciclo - isto é para mal esteja ordenada acaba o ciclo em vez de ter que estar preso até ao fim\n",
    "\n",
    "def ordenaLista(lista):\n",
    "\n",
    "    n=len(lista)\n",
    "    cond = True\n",
    "\n",
    "    while n > 0 and cond:\n",
    "        i = 1\n",
    "        while i < n:\n",
    "            cond = False\n",
    "            if lista[i-1] > lista[i]:\n",
    "                aux = lista[i]\n",
    "                lista[i] = lista[i-1]\n",
    "                lista[i-1] = aux \n",
    "                cond = True\n",
    "            i = i+1\n",
    "        n=n-1\n",
    "\n",
    "    return lista\n",
    "\n",
    "\n",
    "listaA=[22, 3, 7, 5, 10, 1]\n",
    "print(ordenaLista(listaA))"
   ]
  },
  {
   "cell_type": "markdown",
   "id": "bb2a82e2",
   "metadata": {},
   "source": [
    "### Exercício 3: Parques de estacionamento do Continente\n",
    "\n",
    "Foste encarregado de criar uma pequena aplicação para gerir os parques de estacionamento do Continente (aqueles inteligentes que têm uma luzinha a indicar se o lugar está livre ou ocupado). \n",
    "\n",
    "Considera que cada lugar num parque é identificado por um número inteiro. \n",
    "Um parque é definido pelo seu nome, o número de lugares que tem disponíveis e uma lista dos lugares que se encontram ocupados no momento.\n",
    "\n",
    "Considera a seguinte sugestão para o modelo dos parques:\n",
    "```\n",
    "Parques = [Parque]\n",
    "Parque = [nlugares, ocupados, nome]\n",
    "nlugares = Int\n",
    "ocupados = [lugar]\n",
    "nome = String\n",
    "lugar = Int\n",
    "```\n",
    "Que poderá ser usado num programa da seguinte forma:\n",
    "```\n",
    "p1 = [600, [], \"P1\"]\n",
    "p2 = [1500, [], \"P2\"]\n",
    "parques = []\n",
    "...\n",
    "parques = inserirParque(parques, p1)\n",
    "parques = inserirParque(parques ,p2)\n",
    "...\n",
    "listar(parques)\n",
    "...\n",
    "if(disponivel( parques, \"P1\", 23 ):\n",
    "    parques = estaciona( parques, \"P1\", 23 );\n",
    "...\n",
    "listardisponibilidades(parques);\n",
    "...\n",
    "```\n",
    "Especifique as funções utilizadas no exemplo:\n",
    "\n",
    "1. `inserirParque( listap, p )` - que insere o parque `p` na lista de parques;\n",
    "2. `listar( listap )` - que lista no monitor todos os parques disponíveis juntamente com a sua informação: nome e número de lugares;\n",
    "3. `disponivel( listap, nomep, lugar )` - que dá como resultado **False** se o lugar **lugar** já estiver ocupado nesse parque e **True** caso contrário;\n",
    "4. `estaciona( listap, nomep, lugar)` - que dá como resultado um novo sistema de parques após a entrada de um carro no parque de nome **nomep** e que estacionou no lugar **lugar**;\n",
    "5. `listardisponibilidades( listap )` - que lista no monitor o nome de todos parques activos juntamente com o número de lugares disponíveis em cada um;\n",
    "6. `listarP(listap, nomep)` - que lista no monitor a informação do parque, nome, lugares e lista de ocupados;\n",
    "7. `libertaLugar(listap, nomep, lugar)` - que retira **lugar** da lista de lugares ocupados do respetivo parque;\n",
    "8. `criaParque(listap, nomep, lugares)` - que acrescenta um novo parque à lista de parques, devolvendo uma nova lista;\n",
    "9. `removeParque(listap, nomep)` - que remove o parque da lista, se a lista de lugares ocupados estiver vazia;\n",
    "10. Especifique uma aplicação, com estas opções e outras que façam sentido, para fazer a gestão dos parques: a aplicação deverá ter um menu de opções e ciclicamente executará as operações selecionadas pelo utilizador até este selecionar a opção de terminar (as funções acima indicadas são os construtoes do modelo, precisam de parâmetros, devem ser encapsuladas em funções que lêem esses parâmetros).  "
   ]
  },
  {
   "cell_type": "code",
   "execution_count": null,
   "id": "4c10ae94",
   "metadata": {},
   "outputs": [],
   "source": [
    "# Solução do exercício 3\n",
    "# ----------------------\n",
    "# Modelo:\n",
    "#   Parques = [Parque]\n",
    "#   Parque = [nlugares, ocupados, nome]\n",
    "#   nlugares = Int\n",
    "#   ocupados = [lugar]\n",
    "#   nome = String\n",
    "#   lugar = Int\n",
    "\n",
    "def inserirParque( listap, p ):\n",
    "    listap.append(p)\n",
    "    return listap\n",
    "\n",
    "def listar( listap ):\n",
    "    \n",
    "    print (\"---------- Parques --------\")\n",
    "    for p in listap:\n",
    "        return \"Nome: \", p[2], \" | \" , \"Número de lugares: \", p[0], \"Ocupados: \", [1]\n",
    "\n",
    "\n",
    "def disponivel( listap, nomep, lugar ):\n",
    "    cond = False\n",
    "    for p in listap:\n",
    "        if p[2]==nomep:\n",
    "            if lugar not in p[1]:\n",
    "                cond = True\n",
    "\n",
    "    return cond\n",
    "\n",
    "def estaciona( listap, nomep, lugar):\n",
    "    for p in listap:\n",
    "        if nomep==p[2]:\n",
    "            p[1].append(lugar)\n",
    "    return listap\n",
    "\n",
    "\n",
    "def listardisponibilidades( listap ):\n",
    "\n",
    "    print (\"---------- Parques --------\")\n",
    "    for p in listap:\n",
    "        d = p[0] - len(p[1])\n",
    "        return \"Nome: \", p[2], \" | \" , \"Número de lugares disponíveis: \" + str(d)\n",
    "\n",
    "\n",
    "\n",
    "def listarP(listap, nomep):\n",
    "    for p in listap:\n",
    "        if nomep==p[2]:\n",
    "            return \"O parque \", nomep, \"tem \", p[0], \" lugares  e estão ocupados os lugares \", p[1]\n",
    "\n",
    "\n",
    "\n",
    "def libertaLugar(listap, nomep, lugar):\n",
    "    for p in listap:\n",
    "        if nomep==p[2]:\n",
    "            p[1].remove(lugar)\n",
    "    return listap\n",
    "\n",
    "\n",
    "def criaParque(listap, nomep, lugares):\n",
    "    nomep = str(input(\"Qual o nome do parque: \"))\n",
    "    lugares = int(input(\"Quantos lugares tem o parque: \"))\n",
    "    parque=[lugares,[],nomep]\n",
    "    listap.append(parque)\n",
    "    return listap\n",
    "\n",
    "\n",
    "def removeParque(listap, nomep):\n",
    "    for p in listap:\n",
    "        if nomep==p[2]:\n",
    "            if p[1]==[]:\n",
    "                listap.remove(p)\n",
    "    return listap\n",
    "\n",
    "def menu():\n",
    "    print(\"\"\" \n",
    "    (1) Reset\n",
    "    (2) Criar Parque\n",
    "    (3) Remover Parque\n",
    "    (4) Listar Parques\n",
    "    (5) Consulta Parque \n",
    "    ...\n",
    "    (0) Sair\n",
    "    \"\"\")\n",
    "\n",
    "p1 = (600, [], \"P1\")\n",
    "p2 = (1500, [], \"P2\")\n",
    "parques = []\n",
    "parques = inserirParque(parques, p1)\n",
    "parques = inserirParque(parques ,p2)\n",
    "listar(parques)\n",
    "print(disponivel(parques, \"P2\", 67))\n",
    "for j in range(1,101):\n",
    "    parques = estaciona(parques, \"P1\", j*2)\n",
    "listar(parques)\n",
    "print(parques[0])"
   ]
  },
  {
   "cell_type": "code",
   "execution_count": null,
   "id": "04d4cc18",
   "metadata": {},
   "outputs": [],
   "source": [
    "# Aplicação para gerir parques\n",
    "opcao = 1\n",
    "while opcao != '0':\n",
    "    menu()\n",
    "    opcao = input(\"Introduza uma opção: \")\n",
    "    \n"
   ]
  },
  {
   "cell_type": "markdown",
   "id": "212a8b18",
   "metadata": {},
   "source": [
    "### Exercício 4: splitLista\n",
    "\n",
    "* Defina uma função que recebe uma lista de números e um número e que dá como resultado uma lista com dois elementos, o primeiro elemento é uma lista com os números menores ou iguais ao número passado como argumento, e o segundo elemento é uma lista com os maiores."
   ]
  },
  {
   "cell_type": "code",
   "execution_count": 21,
   "id": "c7a21191",
   "metadata": {},
   "outputs": [
    {
     "name": "stdout",
     "output_type": "stream",
     "text": [
      "[[3, 5, 2, 1], [6, 8, 9]]\n"
     ]
    }
   ],
   "source": [
    "# Solução do exercício 4\n",
    "def splitLista(lista, n):\n",
    "    \n",
    "    listamenores = []\n",
    "    listamaiores = []\n",
    "    \n",
    "    for x in lista:\n",
    "\n",
    "        if x <= n:\n",
    "            listamenores.append(x)\n",
    "        else:\n",
    "            listamaiores.append(x)\n",
    "    \n",
    "    listaf = [listamenores, listamaiores]\n",
    "    \n",
    "    return listaf\n",
    "\n",
    "listaA = [3, 5, 6, 8, 2, 9, 1]\n",
    "a = 5\n",
    "print(splitLista(listaA, a))"
   ]
  },
  {
   "cell_type": "markdown",
   "id": "caf54e37",
   "metadata": {},
   "source": [
    "### Exercício 5: mergeListas\n",
    "\n",
    "* Defina uma função que recebe duas listas de números ordenadas e dá como resultado uma nova lista ordenada com os elementos das duas listas."
   ]
  },
  {
   "cell_type": "code",
   "execution_count": 31,
   "id": "444f1f0f",
   "metadata": {},
   "outputs": [
    {
     "name": "stdout",
     "output_type": "stream",
     "text": [
      "[1, 2, 3, 4, 5, 6, 7, 8, 9]\n"
     ]
    }
   ],
   "source": [
    "# Solução do exercício 5\n",
    "def splitLista(lista1, lista2):\n",
    "    \n",
    "    lista1.sort()\n",
    "    lista2.sort()\n",
    "\n",
    "    listaf = []\n",
    "\n",
    "    i = 0\n",
    "    j = 0\n",
    "\n",
    "    while i<len(lista1) and j<len(lista2):\n",
    "        if lista1[i]<lista2[j]:\n",
    "            listaf.append(lista1[i])\n",
    "            i = i + 1\n",
    "\n",
    "        else:\n",
    "            listaf.append(lista2[j])\n",
    "            j = j + 1\n",
    "        \n",
    "    while i<len(lista1):\n",
    "        listaf.append(lista1[i])\n",
    "        i = i + 1\n",
    "    \n",
    "    while j<len(lista2):\n",
    "        listaf.append(lista2[j])\n",
    "        j = j + 1\n",
    "    \n",
    "    return listaf\n",
    "\n",
    "listaA=[1, 6, 7, 5, 8]\n",
    "listaB = [3, 9, 2, 4]\n",
    "print(splitLista(listaA, listaB))\n",
    "\n"
   ]
  },
  {
   "cell_type": "markdown",
   "id": "4193a91b",
   "metadata": {},
   "source": [
    "### TPC5: Aplicação para Gerir um Cinema\n",
    "\n",
    "Suponha que está a desenvolver uma aplicacão para gestão de um conjunto de salas de cinema de um centro comercial. \n",
    "Nesse centro comercial existem algumas salas de cinema (que poderão estar a exibir filmes ou não), cada sala tem uma determinada \n",
    "lotação, uma lista com a referência dos bilhetes vendidos (lugares ocupados; cada lugar é identificado por um número inteiro), e cada sala tem um filme associado.\n",
    "\n",
    "Considera a seguinte sugestão para o modelo dos cinemas:\n",
    "```\n",
    "Cinema = [Sala]\n",
    "Sala = [nlugares, Vendidos, filme]\n",
    "nlugares = Int\n",
    "filme = String \n",
    "Vendidos = [Int]\n",
    "```\n",
    "  \n",
    "Que poderá ser usado num programa da seguinte forma:\n",
    "```\n",
    "sala1 = (150, [], \"Twilight\")\n",
    "sala2 = (200, [], \"Hannibal\")\n",
    "cinema1 = []\n",
    "...\n",
    "cinema1 = inserirSala(cinema1,sala1)\n",
    "cinema1 = inserirSala(cinema1,sala2)\n",
    "...\n",
    "listar(cinema1)\n",
    "...\n",
    "\n",
    "if(disponivel(cinema1, \"Twilight\", 17 )):\n",
    "  cinema1 = vendebilhete(cinema1, \"Twilight\", 17 )\n",
    "...\n",
    "listardisponibilidades(cinema1)\n",
    "...\n",
    "```\n",
    "\n",
    "Especifique as funções utilizadas no exemplo:\n",
    "\n",
    "1. `listar( cinema )` - que lista no monitor todos os filmes que estão em exibição nas salas do cinema passado como argumento;\n",
    "2. `disponivel( cinema, filme, lugar )` - que dá como resultado **False** se o lugar lugar já estiver ocupado na sala onde o filme está a ser exibido e dará como resultado **True** se o inverso acontecer;\n",
    "3. `vendebilhete( cinema, filme, lugar )` - que dá como resultado um novo cinema resultante de acrescentar o lugar à lista dos lugares ocupados, na sala onde está a ser exibido o filme;\n",
    "4. `listardisponibilidades( cinema )` - que, para um dado cinema, lista no monitor para cada sala, o filme que está a ser exibido e o total de lugares disponíveis nessa sala (número de lugares na sala menos o número de lugares ocupados);\n",
    "5. `inserirSala( cinema, sala )` - que acrescenta uma sala nova a um cinema (devendo verificar se a sala já existe);\n",
    "6. Acrescente todas as outras funcionalidades que achar necessárias;\n",
    "7. À semelhança do exercício 3, construa uma aplicação com um menu de interface para as operações.\n"
   ]
  },
  {
   "cell_type": "code",
   "execution_count": 2,
   "id": "ef7c0379",
   "metadata": {},
   "outputs": [
    {
     "name": "stdout",
     "output_type": "stream",
     "text": [
      "Twilight\n",
      "A aplicação terminou! Até à próxima!\n"
     ]
    }
   ],
   "source": [
    "def listar(cinema):\n",
    "    listafilmes = []\n",
    "    for sala in cinema:\n",
    "        listafilmes.append(sala[2])\n",
    "    return listafilmes\n",
    "\n",
    "def disponivel(cinema, filme, lugar):\n",
    "    res = True\n",
    "    for sala in cinema:\n",
    "        if filme == sala[2]:\n",
    "            if lugar in sala[1]:\n",
    "                res = False\n",
    "    return res\n",
    "\n",
    "def vendebilhete(cinema, filme, lugar):\n",
    "    if disponivel(cinema, filme, lugar):\n",
    "        for sala in cinema:\n",
    "            if filme == sala[2]:\n",
    "                sala[1].append(lugar)\n",
    "    return cinema\n",
    "\n",
    "def listardisponibilidades(cinema):\n",
    "    c = []\n",
    "    for sala in cinema:\n",
    "        info = [sala[2], sala[0]-len(sala[1])]\n",
    "        c.append(info)\n",
    "    return c\n",
    "\n",
    "def inserirsala(cinema, sala):\n",
    "    if sala not in cinema:\n",
    "        cinema.append(sala)\n",
    "    return cinema\n",
    "\n",
    "def menu():\n",
    "    return \"Menu: \\n (1) Listar filmes em exibição \\n (2) Verifica se o lugar está ocupado \\n (3) Cinema após a venda de um bilhete \\n (4) Disponibilidades do cinema \\n (5) Inserir sala \\n (0) Sair \"\n",
    "\n",
    "\n",
    "\n",
    "\n",
    "sala1 = (150, [], \"Twilight\")\n",
    "sala2 = (200, [], \"Hannibal\")\n",
    "cinema1 = [sala1]\n",
    "\n",
    "menu()\n",
    "opc = int(input(\"Insira a opção que deseja: \"))\n",
    "\n",
    "while opc != 0:\n",
    "\n",
    "    if opc == 1:\n",
    "        exibicao = listar(cinema1)\n",
    "        for filmes in exibicao:\n",
    "            print(filmes)\n",
    "        menu()\n",
    "        opc = int(input(\"Insira a opção que deseja: \"))\n",
    "\n",
    "    if opc == 2:\n",
    "        filme = str(input(\"Escolha o filme: \"))\n",
    "        lugar = int(input(\"Escolha o lugar: \"))\n",
    "\n",
    "        disp = disponivel(cinema1, filme, lugar)\n",
    "        \n",
    "        if disp:\n",
    "            print(\"O lugar escolhido está disponível\")\n",
    "        else:\n",
    "            print(\"O lugar escolhido está ocupado\")\n",
    "        menu()\n",
    "        opc = int(input(\"Insira a opção que deseja: \"))\n",
    "\n",
    "    if opc == 3:\n",
    "        filme = str(input(\"Escolha o filme: \"))\n",
    "        lugar = int(input(\"Escolha o lugar: \"))\n",
    "\n",
    "        print(\"Cinema após o seu bilhete ter sido vendido: \" + vendebilhete(cinema1, filme, lugar))\n",
    "        menu()\n",
    "        opc = int(input(\"Insira a opção que deseja: \"))\n",
    "    \n",
    "    if opc == 4:\n",
    "        print(\"Disponibilidades do cinema: \" + listardisponibilidades(cinema1))\n",
    "        menu()\n",
    "        opc = int(input(\"Insira a opção que deseja: \"))\n",
    "    \n",
    "    if opc == 5: \n",
    "        numlugares = int(input(\"Insira o número de lugares que a sala tem: \"))\n",
    "        vendidos = int(input(\"Quantos lugares estão ocupados na sala: \"))\n",
    "        ocupados = []\n",
    "        for n in range(vendidos):\n",
    "            l = int(input(\"Qual o número do lugar ocupado: \"))\n",
    "            ocupados.append(l)\n",
    "        filme = str(input(\"Qual o filme: \"))\n",
    "\n",
    "        sala = [numlugares, ocupados, filme]\n",
    "\n",
    "        print(\"A sua sala foi adicionada ao cinema escolhido!\" + inserirsala(cinema1, sala))\n",
    "        menu()\n",
    "        opc = int(input(\"Insira a opção que deseja: \"))\n",
    "\n",
    "if opc == 0:\n",
    "    print(\"A aplicação terminou! Até à próxima!\")\n"
   ]
  }
 ],
 "metadata": {
  "kernelspec": {
   "display_name": "Python 3.9.1 64-bit",
   "language": "python",
   "name": "python3"
  },
  "language_info": {
   "codemirror_mode": {
    "name": "ipython",
    "version": 3
   },
   "file_extension": ".py",
   "mimetype": "text/x-python",
   "name": "python",
   "nbconvert_exporter": "python",
   "pygments_lexer": "ipython3",
   "version": "3.10.2"
  },
  "vscode": {
   "interpreter": {
    "hash": "aee8b7b246df8f9039afb4144a1f6fd8d2ca17a180786b69acc140d282b71a49"
   }
  }
 },
 "nbformat": 4,
 "nbformat_minor": 5
}
