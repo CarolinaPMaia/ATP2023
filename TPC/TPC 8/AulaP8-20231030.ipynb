{
 "cells": [
  {
   "cell_type": "markdown",
   "id": "1e545158",
   "metadata": {},
   "source": [
    "# Aula Prática 8 (guião)\n",
    "### Semana de 30 de Outubro a 3 de Novembro de 2023\n",
    "### José Carlos Ramalho e Luís Cunha\n",
    "### Sinopsis:\n",
    "Consolidação e aferição de tudo o que foi feito até ao momento. "
   ]
  },
  {
   "cell_type": "markdown",
   "id": "9b9b5140-2b81-435e-9fc0-324437a7b453",
   "metadata": {},
   "source": [
    "### Assunto: Frações\n",
    "Vamos pensar num modelo: o que é uma fração estruturalmente?"
   ]
  },
  {
   "cell_type": "code",
   "execution_count": 39,
   "id": "5a6da5eb",
   "metadata": {},
   "outputs": [],
   "source": [
    "# Modelo duma fração\n",
    "f1 = (1,2)\n",
    "# Modelo duma lista de frações\n",
    "\n",
    "listaf = [(1,2), (1,3), (3,4)]"
   ]
  },
  {
   "cell_type": "markdown",
   "id": "d477052b-e074-4a5d-ac12-85c2286a1e5f",
   "metadata": {},
   "source": [
    "### Construtor"
   ]
  },
  {
   "cell_type": "code",
   "execution_count": 40,
   "id": "33d1c7e9-22af-4473-9b21-3e7ce0fcf571",
   "metadata": {},
   "outputs": [
    {
     "name": "stdout",
     "output_type": "stream",
     "text": [
      "1/2\n"
     ]
    }
   ],
   "source": [
    "def criarFracao(numerador, denominador):\n",
    "    return (numerador, denominador)\n",
    "\n",
    "def verFracao(f):\n",
    "    print (f[0], \"/\", f[1], sep=\"\")  \n",
    "    # se usarmos a vígula não precisa do str mas se fosse com + era preciso o str\n",
    "    # num print se pusermos end = \"x\", ele em vez de fazer parágreado para o próximo print faz x\n",
    "    # sep = \"\" permite tirar os espaços que as vígulas por defeito dão, se pusessemos sep=\";\" ele separava por ;\n",
    "\n",
    "verFracao(f1)"
   ]
  },
  {
   "cell_type": "code",
   "execution_count": 41,
   "id": "d46df3ff",
   "metadata": {},
   "outputs": [
    {
     "name": "stdout",
     "output_type": "stream",
     "text": [
      "2/3\n"
     ]
    }
   ],
   "source": [
    "f2 = criarFracao(2,3)\n",
    "verFracao(f2)"
   ]
  },
  {
   "cell_type": "markdown",
   "id": "f7cd0ff1",
   "metadata": {},
   "source": [
    "### Simplificação de frações"
   ]
  },
  {
   "cell_type": "code",
   "execution_count": 42,
   "id": "8b0fa08f",
   "metadata": {},
   "outputs": [],
   "source": [
    "def mdc(a,b):\n",
    "    while a != b:\n",
    "        if a > b:\n",
    "            # aux = a \n",
    "            # a = b\n",
    "            # b = aux - b\n",
    "            a, b = b , a-b\n",
    "        else:\n",
    "            a, b = b, a\n",
    "    return b\n",
    "\n",
    "def simplificarFracao(f):\n",
    "    divisor = mdc(f[0], f[1])\n",
    "    return (int(f[0] / divisor), int(f[1] / divisor))"
   ]
  },
  {
   "cell_type": "code",
   "execution_count": 43,
   "id": "8821d031",
   "metadata": {},
   "outputs": [
    {
     "name": "stdout",
     "output_type": "stream",
     "text": [
      "3/20\n"
     ]
    }
   ],
   "source": [
    "verFracao(simplificarFracao(criarFracao(21, 140)))"
   ]
  },
  {
   "cell_type": "markdown",
   "id": "ca2f1736",
   "metadata": {},
   "source": [
    "### Frações equivalentes\n",
    "\n",
    "Defina uma função que recebe duas frações como argumento e devolve `True` se as frações são equivalentes e `False` caso contrário."
   ]
  },
  {
   "cell_type": "code",
   "execution_count": 44,
   "id": "58bdae83",
   "metadata": {},
   "outputs": [
    {
     "name": "stdout",
     "output_type": "stream",
     "text": [
      "False\n",
      "True\n"
     ]
    }
   ],
   "source": [
    "def equivalenteFracao(f1,f2):\n",
    "    return simplificarFracao(f1) == simplificarFracao(f2)\n",
    "\n",
    "print(equivalenteFracao(f1,f2))\n",
    "f3 = (4,2)\n",
    "f4 = (8,4)\n",
    "print(equivalenteFracao(f3,f4))\n",
    " "
   ]
  },
  {
   "cell_type": "code",
   "execution_count": 45,
   "id": "a3a78752",
   "metadata": {},
   "outputs": [
    {
     "name": "stdout",
     "output_type": "stream",
     "text": [
      "True\n",
      "False\n"
     ]
    }
   ],
   "source": [
    "f3 = (8,4)\n",
    "f4 = (4,2)\n",
    "f5 = (3,7)\n",
    "print(equivalenteFracao(f3,f4))\n",
    "print(equivalenteFracao(f3,f5))\n"
   ]
  },
  {
   "cell_type": "markdown",
   "id": "d52f012f",
   "metadata": {},
   "source": [
    "## Operações sobre frações"
   ]
  },
  {
   "cell_type": "code",
   "execution_count": 46,
   "id": "96ba280b",
   "metadata": {},
   "outputs": [
    {
     "name": "stdout",
     "output_type": "stream",
     "text": [
      "17/14\n"
     ]
    }
   ],
   "source": [
    "def somarFrac(f1, f2):\n",
    "    num1 , den1 = f1\n",
    "    num2 , den2 = f2\n",
    "    if den1 == den2:\n",
    "        return int(num1 + num2), int(den1)\n",
    "\n",
    "    else: \n",
    "        return int(num1)*int(den2) + int(num2)*int(den1), int(den1)*int(den2) \n",
    "\n",
    "f2 = criarFracao(5,7)\n",
    "verFracao(somarFrac(f1,f2))"
   ]
  },
  {
   "cell_type": "code",
   "execution_count": 47,
   "metadata": {},
   "outputs": [
    {
     "name": "stdout",
     "output_type": "stream",
     "text": [
      "17/14\n"
     ]
    }
   ],
   "source": [
    "#forma do stor \n",
    "\n",
    "def somarFrac(f1, f2):\n",
    "    return simplificarFracao((f1[0]*f2[1]+ f2[0]*f1[1], f1[1]*f2[1]))\n",
    "    \n",
    "\n",
    "f2 = criarFracao(5,7)\n",
    "verFracao(somarFrac(f1,f2))"
   ]
  },
  {
   "cell_type": "code",
   "execution_count": 48,
   "id": "a0198bce",
   "metadata": {},
   "outputs": [
    {
     "name": "stdout",
     "output_type": "stream",
     "text": [
      "[(5, 12), (8, 3), (7, 4), (5, 6), (4, 10), (2, 10), (1, 8), (5, 2), (1, 10), (4, 14), (7, 19), (8, 2), (1, 16), (5, 5), (2, 19), (4, 16), (3, 16), (7, 15), (5, 14)]\n"
     ]
    }
   ],
   "source": [
    "listaFrac = [f1, f2, criarFracao(125,1000), (8,12)]\n",
    "listaFrac2 = []\n",
    "import random\n",
    "for i in range(1,20):\n",
    "    n = random.randrange(1, 10)\n",
    "    d = random.randrange(2, 20)\n",
    "    listaFrac2.append(criarFracao(n,d))\n",
    "print(listaFrac2)"
   ]
  },
  {
   "cell_type": "markdown",
   "id": "e83e4eae",
   "metadata": {},
   "source": [
    "### Soma uma lista de frações"
   ]
  },
  {
   "cell_type": "code",
   "execution_count": 49,
   "id": "402d83f0",
   "metadata": {},
   "outputs": [
    {
     "data": {
      "text/plain": [
       "(337, 168)"
      ]
     },
     "execution_count": 49,
     "metadata": {},
     "output_type": "execute_result"
    }
   ],
   "source": [
    "def somarListaFrac(lista):\n",
    "    res = lista[0]\n",
    "    for f in lista[1:]:\n",
    "        res= somarFrac(res,f)\n",
    "    return res \n",
    "\n",
    "#o lista[1:] faz basicamente slice [start:stop:step] e ter [0:2] aquilo so vai ate ao indice 1, nao vai ate ao indice, retorna tipo a qunatidade de valores que tu meteres\n",
    "\n",
    "somarListaFrac(listaFrac)"
   ]
  },
  {
   "cell_type": "markdown",
   "id": "a88929cc",
   "metadata": {},
   "source": [
    "### Multiplica 2 frações"
   ]
  },
  {
   "cell_type": "code",
   "execution_count": 50,
   "id": "519c5358",
   "metadata": {},
   "outputs": [
    {
     "name": "stdout",
     "output_type": "stream",
     "text": [
      "5/14\n"
     ]
    }
   ],
   "source": [
    "def multFrac(f1, f2):\n",
    "    num1 , den1 = f1\n",
    "    num2 , den2 = f2\n",
    "    return int(num1 * num2), int(den1 * den2)\n",
    "\n",
    "f2 = criarFracao(5,7)\n",
    "verFracao(multFrac(f1,f2))"
   ]
  },
  {
   "cell_type": "markdown",
   "metadata": {},
   "source": [
    "Apontamento"
   ]
  },
  {
   "cell_type": "code",
   "execution_count": null,
   "metadata": {},
   "outputs": [],
   "source": [
    "#APONTAMENTO\n",
    "\n",
    "l=[0,2,3,4,5,6]\n",
    "\n",
    "l[2:4]\n",
    "\n",
    "#para inverter - porque step inves de ir 1 em 1, vai de -1 em -1 \n",
    "l[::-1]\n",
    "\n",
    "#QUANDO ESTÁ L[:5] isto vai até 4, porque e a excluir o ultimo elemento\n",
    "#lista[:-1] é todos menos o ultimo"
   ]
  },
  {
   "cell_type": "markdown",
   "id": "d1f0c8fa",
   "metadata": {},
   "source": [
    "### Ordenar uma lista de frações por ordem decrescente"
   ]
  },
  {
   "cell_type": "code",
   "execution_count": 51,
   "id": "b783df02",
   "metadata": {},
   "outputs": [
    {
     "data": {
      "text/plain": [
       "[(125, 1000), (1, 2), (8, 12), (5, 7)]"
      ]
     },
     "execution_count": 51,
     "metadata": {},
     "output_type": "execute_result"
    }
   ],
   "source": [
    "def ordena(f) :\n",
    "    return f[0]/f[1]\n",
    "\n",
    "def ordenaFracDec(lista):\n",
    "    return sorted(lista, key = ordena, reverse=False)\n",
    "    \n",
    "ordenaFracDec(listaFrac)"
   ]
  },
  {
   "cell_type": "markdown",
   "id": "fcd5b5d6",
   "metadata": {},
   "source": [
    "### Guardar uma lista de frações num ficheiro"
   ]
  },
  {
   "cell_type": "code",
   "execution_count": 52,
   "id": "2840f9b2",
   "metadata": {},
   "outputs": [],
   "source": [
    "def gravaListaFrac(fnome, lista):\n",
    "    file = open(fnome, \"w\")\n",
    "    for f in lista :\n",
    "        registo = str(f[0]) + \"/\" + str(f[1])+ \"\\n\"\n",
    "        file.write(registo)\n",
    "    file.close()\n",
    "    return \n",
    "\n",
    "gravaListaFrac(\"olafracoes.txt\", listaFrac2)\n",
    "#, é so em print"
   ]
  },
  {
   "cell_type": "markdown",
   "id": "0664fcdc",
   "metadata": {},
   "source": [
    "### Recuperar uma lista de frações dum ficheiro"
   ]
  },
  {
   "cell_type": "code",
   "execution_count": 53,
   "id": "82aece6e",
   "metadata": {},
   "outputs": [
    {
     "name": "stdout",
     "output_type": "stream",
     "text": [
      "[(5, 12), (8, 3), (7, 4), (5, 6), (4, 10), (2, 10), (1, 8), (5, 2), (1, 10), (4, 14), (7, 19), (8, 2), (1, 16), (5, 5), (2, 19), (4, 16), (3, 16), (7, 15), (5, 14)]\n"
     ]
    }
   ],
   "source": [
    "def carregaListaFrac(fnome):\n",
    "    file = open(fnome, \"r\")\n",
    "    res = []\n",
    "    for line in file:\n",
    "        line = line[:-1]\n",
    "       #AQUI TEM :-1 QUE É PARA NAO CONTABILIZAR O \\N\n",
    "        fracao = line.split(\"/\")\n",
    "        res.append((int(fracao[0]),int(fracao[1])))\n",
    "#TEMOS QUE METER O INT ANTES PORQUE OS NUMEROS VEM DO FICHEIRO EM FORMA STRING, OU SEJA, SE IMPRIMIRES VEM ASSIM '8', INVÉS DE 8\n",
    "    file.close()\n",
    "    return res\n",
    "\n",
    "print(carregaListaFrac(\"olafracoes.txt\"))"
   ]
  },
  {
   "cell_type": "markdown",
   "id": "4193a91b",
   "metadata": {},
   "source": [
    "## TPC8: Teste de aferição\n",
    "\n",
    "Resolva os problemas apresentados a seguir."
   ]
  },
  {
   "cell_type": "markdown",
   "id": "ecb162bd",
   "metadata": {},
   "source": [
    "### tpc-1. Especifique as seguintes listas em compreensão:"
   ]
  },
  {
   "cell_type": "markdown",
   "id": "4e758271",
   "metadata": {},
   "source": [
    "#### a) Lista formada pelos elementos que não são comuns às duas listas:"
   ]
  },
  {
   "cell_type": "code",
   "execution_count": 13,
   "id": "1fe48423",
   "metadata": {},
   "outputs": [
    {
     "data": {
      "text/plain": [
       "[1, 2, 3, 6, 7, 8]"
      ]
     },
     "execution_count": 13,
     "metadata": {},
     "output_type": "execute_result"
    }
   ],
   "source": [
    "lista1 = [1, 2, 3, 4, 5]\n",
    "lista2 = [4, 5, 6, 7, 8]  \n",
    "comuns = [...]\n",
    "\n",
    "def naocomuns(lista1,lista2):\n",
    "    ncomuns = []\n",
    "    for i in lista1:\n",
    "        if i not in lista2: \n",
    "            ncomuns.append(i)\n",
    "    for i in lista2:\n",
    "        if i not in lista1 and i not in ncomuns:\n",
    "            ncomuns.append(i)\n",
    "    return ncomuns\n",
    "\n",
    "naocomuns(lista1,lista2)\n",
    "\n",
    "# Resultado esperado: [1,2,3,6,7,8]"
   ]
  },
  {
   "cell_type": "markdown",
   "id": "0ded2f03",
   "metadata": {},
   "source": [
    "#### b) Lista formada pelas palavras do texto compostas por mais de 3 letras:"
   ]
  },
  {
   "cell_type": "code",
   "execution_count": 21,
   "id": "4ae7f5d0",
   "metadata": {},
   "outputs": [
    {
     "data": {
      "text/plain": [
       "['Vivia',\n",
       " 'poucos',\n",
       " 'anos',\n",
       " 'algures',\n",
       " 'concelho',\n",
       " 'Ribatejo',\n",
       " 'pequeno',\n",
       " 'lavrador',\n",
       " 'negociante',\n",
       " 'gado',\n",
       " 'chamado',\n",
       " 'Manuel',\n",
       " 'Peres',\n",
       " 'Vigário']"
      ]
     },
     "execution_count": 21,
     "metadata": {},
     "output_type": "execute_result"
    }
   ],
   "source": [
    "texto = \"\"\"Vivia há já não poucos anos algures num concelho do Ribatejo \n",
    "    um pequeno lavrador e negociante de gado chamado Manuel Peres Vigário\"\"\"\n",
    "lista = [...]\n",
    "\n",
    "def mais3letras(texto):\n",
    "    superiores = []\n",
    "    texto = texto.strip(\"\\n\")\n",
    "    texto = texto.split(\" \")\n",
    "    for palavra in texto:\n",
    "        if len(palavra) > 3:\n",
    "            superiores.append(palavra)\n",
    "    return superiores \n",
    "\n",
    "mais3letras(texto)\n",
    "\n",
    "# Resultado esperado: ['Vivia', 'poucos', 'anos', 'algures', 'concelho', ...]"
   ]
  },
  {
   "cell_type": "markdown",
   "id": "ecf72afd",
   "metadata": {},
   "source": [
    "#### c) Lista formada por pares do tipo (índice, valor) com os valores da lista dada:"
   ]
  },
  {
   "cell_type": "code",
   "execution_count": 22,
   "id": "876b2cc3",
   "metadata": {},
   "outputs": [
    {
     "data": {
      "text/plain": [
       "[(1, 'anaconda'), (2, 'burro'), (3, 'cavalo'), (4, 'macaco')]"
      ]
     },
     "execution_count": 22,
     "metadata": {},
     "output_type": "execute_result"
    }
   ],
   "source": [
    "lista = ['anaconda', 'burro', 'cavalo', 'macaco']\n",
    "listaRes = [...]\n",
    "\n",
    "def pares(lista):\n",
    "    res = []\n",
    "    for palavra in lista:\n",
    "        num = lista.index(palavra) + 1\n",
    "        res.append((num,palavra))\n",
    "    return res\n",
    "\n",
    "pares(lista)\n",
    "    \n",
    "# Resultado esperado: [(1,'anaconda'), (2,'burro'), (3,'cavalo'), (4,'macaco')]"
   ]
  },
  {
   "cell_type": "markdown",
   "id": "28cb3dc4",
   "metadata": {},
   "source": [
    "### tpc-2. À semelhança do que foi feito nas aulas, realize as seguintes tarefas:"
   ]
  },
  {
   "cell_type": "markdown",
   "id": "5d3f1dbe",
   "metadata": {},
   "source": [
    "#### a) Especifique uma função que dada uma string e uma substring não vazia, calcula  o número de vezes em que a substring aparece na string, sem que haja sobreposição de substrings:"
   ]
  },
  {
   "cell_type": "code",
   "execution_count": 2,
   "id": "4458c7bc",
   "metadata": {},
   "outputs": [
    {
     "name": "stdout",
     "output_type": "stream",
     "text": [
      "2\n",
      "1\n",
      "0\n"
     ]
    }
   ],
   "source": [
    "def strCount(s, subs):\n",
    "    res = 0\n",
    "    i = 0\n",
    "    while i < len(s):\n",
    "        if s[i:i + len(subs)] == subs:\n",
    "            res = res + 1\n",
    "            i = i + len(subs)\n",
    "        else: i = i + 1\n",
    "    return res\n",
    "\n",
    "print(strCount(\"catcowcat\", \"cat\")) # --> 2\n",
    "print(strCount(\"catcowcat\", \"cow\")) # --> 1\n",
    "print(strCount(\"catcowcat\", \"dog\")) # --> 0"
   ]
  },
  {
   "cell_type": "markdown",
   "id": "e6db31d7",
   "metadata": {},
   "source": [
    "#### b) Especifique uma função que recebe uma lista de números inteiros positivos e devolve o menor produto que for possível calcular multiplicando os 3 menores inteiros da lista:"
   ]
  },
  {
   "cell_type": "code",
   "execution_count": 26,
   "id": "2b5ad344",
   "metadata": {},
   "outputs": [
    {
     "name": "stdout",
     "output_type": "stream",
     "text": [
      "168\n"
     ]
    }
   ],
   "source": [
    "def ordenaLista(lista):\n",
    "\n",
    "    t = len(lista)\n",
    "\n",
    "    while t > 0:\n",
    "        for n in range(len(lista)-1):\n",
    "            if lista[n] > lista[n+1]:\n",
    "                lista[n], lista[n+1] = lista[n+1], lista[n]\n",
    "        t = t - 1\n",
    "    \n",
    "    return lista\n",
    "\n",
    "#para ordenara a lista também posso utilizar as funções .sort() ou .sorted(...)\n",
    "\n",
    "def produtoM3(lista):\n",
    "    listaordenada = ordenaLista(lista)\n",
    "    res = listaordenada[0]*listaordenada[1]*listaordenada[2]\n",
    "    return  res\n",
    "\n",
    "print(produtoM3([12,3,7,10,12,8,9]))\n",
    "# Resultado esperado: 168 = 3 * 7 * 8"
   ]
  },
  {
   "cell_type": "markdown",
   "id": "6698b337",
   "metadata": {},
   "source": [
    "#### c) Especifique uma função que dado um número inteiro positivo, repetidamente adiciona os seus dígitos até obter apenas um dígito que é retornado como resultado:"
   ]
  },
  {
   "cell_type": "code",
   "execution_count": 25,
   "id": "54cef309",
   "metadata": {},
   "outputs": [
    {
     "data": {
      "text/plain": [
       "['9']"
      ]
     },
     "execution_count": 25,
     "metadata": {},
     "output_type": "execute_result"
    }
   ],
   "source": [
    "# Input: 38\n",
    "# Output: 2\n",
    "# Explicação: 3 + 8 = 11, 1 + 1 = 2.\n",
    "\n",
    "# Input: 777\n",
    "# Output: 3\n",
    "# Explicação: 7 + 7 + 7 = 21, 2 + 1 = 3.\n",
    "\n",
    "def soma (lista):\n",
    "    i = 0\n",
    "    soma = 0\n",
    "    while i < len(lista) :\n",
    "        soma = soma + int(lista [i])\n",
    "        i = i + 1\n",
    "    return soma \n",
    "\n",
    "def reduxInt(n):\n",
    "    l = list(str(n))\n",
    "    somat = 0\n",
    "    while len(l) != 1:\n",
    "        somat = soma(l)\n",
    "        l = list(str(somat)) \n",
    "    return l\n",
    "\n",
    "\n",
    "reduxInt(9117)"
   ]
  },
  {
   "cell_type": "markdown",
   "id": "4a47b6e8",
   "metadata": {},
   "source": [
    "#### d) Especifique uma função que recebe duas strings, `string1` e `string2`, e devolve o índice da primeira ocorrência de `string2` em `string1`, caso não ocorra nenhuma vez a função deverá retornar `-1`:"
   ]
  },
  {
   "cell_type": "code",
   "execution_count": 35,
   "id": "f0f4c2a8",
   "metadata": {},
   "outputs": [
    {
     "name": "stdout",
     "output_type": "stream",
     "text": [
      "Resultado: 13\n",
      "Resultado: -1\n"
     ]
    }
   ],
   "source": [
    "# Invocação: indexOf(\"Hoje está um belo dia de sol!\", \"belo\")\n",
    "# Resultado: 13\n",
    "\n",
    "# Invocação: indexOf(\"Hoje está um belo dia de sol!\", \"chuva\")\n",
    "# Resultado: -1\n",
    "\n",
    "def IndexOf(s1, s2):\n",
    "    ls1 = list(s1)\n",
    "    for palavra in ls1:\n",
    "        if s2[0] == palavra:\n",
    "            return \"Resultado: \" + str(ls1.index(palavra))\n",
    "    else: \n",
    "        return \"Resultado: \" + \"-1\"\n",
    "        \n",
    "print(IndexOf(\"Hoje está um belo dia de sol!\", \"belo\"))\n",
    "print(IndexOf(\"Hoje está um belo dia de sol!\", \"chuva\"))"
   ]
  },
  {
   "cell_type": "markdown",
   "id": "7cd572fc",
   "metadata": {},
   "source": [
    "### tpc-3. A Rede Social\n",
    "\n",
    "Considere que a informação sobre uma rede social está armazenada numa lista de dicionários.\n",
    "\n",
    "Cada dicionário, correspondente a um _post_ e tem chaves `id`, `conteudo`, `autor`, `dataCriacao` e `comentarios`.\n",
    "Por sua vez, `comentarios` é uma lista de dicionários com chaves `comentario` e `autor`.\n",
    "\n",
    "Considere o seguinte exemplo:\n",
    "\n",
    "``` \n",
    "    MyFaceBook = [{\n",
    "        'id': 'p1', \n",
    "        'conteudo': 'A tarefa de avaliação é talvez a mais ingrata das tarefas que um professor\n",
    "    tem de realizar...', \n",
    "        'autor': 'jcr', \n",
    "        'dataCriacao': '2023-07-20', \n",
    "        'comentarios': [\n",
    "            {\n",
    "                'comentario': 'Completamente de acordo...',\n",
    "                'autor': 'prh'\n",
    "            },\n",
    "            {\n",
    "                'comentario': 'Mas há quem goste...',\n",
    "                'autor': 'jj'\n",
    "            }\n",
    "        ]},\n",
    "        {\n",
    "            'id': 'p2',\n",
    "            ...\n",
    "        },\n",
    "        ...\n",
    "        ]\n",
    "```"
   ]
  },
  {
   "cell_type": "code",
   "execution_count": 30,
   "metadata": {},
   "outputs": [],
   "source": [
    " MyFaceBook = [{\n",
    "        'id': 'p1', \n",
    "        'conteudo': 'A tarefa de avaliação é talvez a mais ingrata das tarefas que um professor tem de realizar...', \n",
    "        'autor': 'jcr', \n",
    "        'dataCriacao': '2023-07-20', \n",
    "        'comentarios': [\n",
    "            {\n",
    "                'comentario': 'Completamente de acordo...',\n",
    "                'autor': 'prh'\n",
    "            },\n",
    "            {\n",
    "                'comentario': 'Mas há quem goste...',\n",
    "                'autor': 'jj'\n",
    "            }\n",
    "        ]}, \n",
    "        {'id': 'p2',\n",
    "        'conteudo': 'Hoje esteve um ótimo dia ',\n",
    "        'autor': 'Carolina ',\n",
    "        'dataCriacao': '2023-11-20',\n",
    "        'comentarios': [\n",
    "            {\n",
    "                'comentario': 'Estava um ótimo dia para passear ',\n",
    "                'autor': 'Ana'\n",
    "            }\n",
    "        ]}\n",
    "        ]"
   ]
  },
  {
   "cell_type": "markdown",
   "id": "89afc758",
   "metadata": {},
   "source": [
    "Defina as seguintes funções de manipulação e consulta da rede social:"
   ]
  },
  {
   "cell_type": "markdown",
   "id": "1aec6cd8",
   "metadata": {},
   "source": [
    "#### a) `quantosPost`, que indica quantos posts estão registados:"
   ]
  },
  {
   "cell_type": "code",
   "execution_count": 2,
   "id": "39a813ee",
   "metadata": {},
   "outputs": [
    {
     "data": {
      "text/plain": [
       "2"
      ]
     },
     "execution_count": 2,
     "metadata": {},
     "output_type": "execute_result"
    }
   ],
   "source": [
    "def quantosPost(redeSocial):\n",
    "    \n",
    "    return len(MyFaceBook)\n",
    "\n",
    "quantosPost(MyFaceBook)"
   ]
  },
  {
   "cell_type": "markdown",
   "id": "2156a0c8",
   "metadata": {},
   "source": [
    "#### b)  `postsAutor`, que devolve a lista de posts de um determinado autor:"
   ]
  },
  {
   "cell_type": "code",
   "execution_count": 4,
   "id": "8a5a2a41",
   "metadata": {},
   "outputs": [
    {
     "data": {
      "text/plain": [
       "[{'id': 'p1',\n",
       "  'conteudo': 'A tarefa de avaliação é talvez a mais ingrata das tarefas que um professor tem de realizar...',\n",
       "  'autor': 'jcr',\n",
       "  'dataCriacao': '2023-07-20',\n",
       "  'comentarios': [{'comentario': 'Completamente de acordo...', 'autor': 'prh'},\n",
       "   {'comentario': 'Mas há quem goste...', 'autor': 'jj'}]}]"
      ]
     },
     "execution_count": 4,
     "metadata": {},
     "output_type": "execute_result"
    }
   ],
   "source": [
    "def postsAutor(redeSocial, autor):\n",
    "    lposts = []\n",
    "    for post in redeSocial:\n",
    "        if post[\"autor\"] == autor:\n",
    "            lposts.append(post)    \n",
    "        return lposts\n",
    "    else: \n",
    "        return \"Autor não encontrado\"\n",
    "\n",
    "postsAutor(MyFaceBook, \"jcr\")"
   ]
  },
  {
   "cell_type": "markdown",
   "id": "12f9126b",
   "metadata": {},
   "source": [
    "#### c) `autores`, que devolve a lista de autores de posts ordenada alfabeticamente:"
   ]
  },
  {
   "cell_type": "code",
   "execution_count": 5,
   "id": "d9dfe30a",
   "metadata": {},
   "outputs": [
    {
     "data": {
      "text/plain": [
       "['jcr', 'Carolina ']"
      ]
     },
     "execution_count": 5,
     "metadata": {},
     "output_type": "execute_result"
    }
   ],
   "source": [
    "def autores(redeSocial):\n",
    "    lautores = []\n",
    "    for post in redeSocial:\n",
    "        lautores.append(post[\"autor\"]) \n",
    "    return lautores\n",
    "\n",
    "autores(MyFaceBook) "
   ]
  },
  {
   "cell_type": "markdown",
   "id": "1a0f760b",
   "metadata": {},
   "source": [
    "#### d) `insPost`, que acrescenta um novo post à rede social a partir dos parâmetros recebidos e devolve a nova rede social. \n",
    "    \n",
    "O campo `id` devrá ser calculado a partir dos já existentes, por exemplo, se a rede tiver posts com id `p1`, `p2` e `p3`, o novo `id` deverá ser `p4`."
   ]
  },
  {
   "cell_type": "code",
   "execution_count": 22,
   "id": "a00c85e3",
   "metadata": {},
   "outputs": [
    {
     "data": {
      "text/plain": [
       "[{'id': 'p1',\n",
       "  'conteudo': 'A tarefa de avaliação é talvez a mais ingrata das tarefas que um professor tem de realizar...',\n",
       "  'autor': 'jcr',\n",
       "  'dataCriacao': '2023-07-20',\n",
       "  'comentarios': [{'comentario': 'Completamente de acordo...', 'autor': 'prh'},\n",
       "   {'comentario': 'Mas há quem goste...', 'autor': 'jj'}]},\n",
       " {'id': 'p2',\n",
       "  'conteudo': 'Hoje esteve um ótimo dia ',\n",
       "  'autor': 'Carolina ',\n",
       "  'dataCriacao': '2023-11-20',\n",
       "  'comentarios': [{'comentario': 'Estava um ótimo dia para passear ',\n",
       "    'autor': ' Ana'}]},\n",
       " {'id': 'p3',\n",
       "  'conteudo': 'A comida caseira é a melhor',\n",
       "  'autor': 'Maria ',\n",
       "  'dataCriacao': '2023-11-20',\n",
       "  'comentarios': [{'comentario': 'Para mim a melhor é a do restaurante ',\n",
       "    'autor': ' Manel'}]}]"
      ]
     },
     "execution_count": 22,
     "metadata": {},
     "output_type": "execute_result"
    }
   ],
   "source": [
    "def insPost(redeSocial):\n",
    "    novopost = {}\n",
    "    ultimopost = redeSocial[-1]\n",
    "    id_anterior = ultimopost[\"id\"]\n",
    "    id = \"p\" + str(int(id_anterior[1])+1)\n",
    "    comentarios  =[]\n",
    "    c = -1\n",
    "    conteudo = input(\"Insira o conteúdo do seu post: \")\n",
    "    autor = input(\"Insira o nome do autor do seu post: \")\n",
    "    dataCriacao = input(\"Insira a data de criação do post (no formato AAAA-MM-DD): \")\n",
    "    while c != \"0\":\n",
    "        c = input(\"Insira o comentário e respetivo autor (separados por  , ) - Se não quiser inserir novos comentários prime o '0' e 'Enter'\")\n",
    "        if len(c) >= 2 and c != \"0\":\n",
    "            com,aut = c.split(\",\")\n",
    "            comentario = {\"comentario\": com, \"autor\": aut}\n",
    "            comentarios.append(comentario)\n",
    "    novopost = {\"id\": id, \"conteudo\": conteudo, \"autor\": autor, \"dataCriacao\": dataCriacao, \"comentarios\": comentarios}\n",
    "    redeSocial.append(novopost)\n",
    "    return redeSocial\n",
    "\n",
    "insPost(MyFaceBook)"
   ]
  },
  {
   "cell_type": "code",
   "execution_count": 23,
   "metadata": {},
   "outputs": [
    {
     "name": "stdout",
     "output_type": "stream",
     "text": [
      "[{'id': 'p1', 'conteudo': 'A tarefa de avaliação é talvez a mais ingrata das tarefas que um professor tem de realizar...', 'autor': 'jcr', 'dataCriacao': '2023-07-20', 'comentarios': [{'comentario': 'Completamente de acordo...', 'autor': 'prh'}, {'comentario': 'Mas há quem goste...', 'autor': 'jj'}]}, {'id': 'p2', 'conteudo': 'Hoje esteve um ótimo dia ', 'autor': 'Carolina ', 'dataCriacao': '2023-11-20', 'comentarios': [{'comentario': 'Estava um ótimo dia para passear ', 'autor': ' Ana'}]}, {'id': 'p3', 'conteudo': 'A comida caseira é a melhor', 'autor': 'Maria ', 'dataCriacao': '2023-11-20', 'comentarios': [{'comentario': 'Para mim a melhor é a do restaurante ', 'autor': ' Manel'}]}]\n"
     ]
    }
   ],
   "source": [
    "print(MyFaceBook)"
   ]
  },
  {
   "cell_type": "markdown",
   "id": "65061d0a",
   "metadata": {},
   "source": [
    "#### e)  `remPost`, que remove um post da rede, correspondente ao `id` recebido."
   ]
  },
  {
   "cell_type": "code",
   "execution_count": 24,
   "id": "dc1adabc",
   "metadata": {},
   "outputs": [
    {
     "data": {
      "text/plain": [
       "\"O post foi removido com sucesso! A sua rede social agora é: [{'id': 'p1', 'conteudo': 'A tarefa de avaliação é talvez a mais ingrata das tarefas que um professor tem de realizar...', 'autor': 'jcr', 'dataCriacao': '2023-07-20', 'comentarios': [{'comentario': 'Completamente de acordo...', 'autor': 'prh'}, {'comentario': 'Mas há quem goste...', 'autor': 'jj'}]}, {'id': 'p2', 'conteudo': 'Hoje esteve um ótimo dia ', 'autor': 'Carolina ', 'dataCriacao': '2023-11-20', 'comentarios': [{'comentario': 'Estava um ótimo dia para passear ', 'autor': ' Ana'}]}]\""
      ]
     },
     "execution_count": 24,
     "metadata": {},
     "output_type": "execute_result"
    }
   ],
   "source": [
    "def remPost(redeSocial, id):\n",
    "    post_retirar = {}\n",
    "    id_dado = \"p\" + str(id)\n",
    "    if 1 <= id <= len(redeSocial):\n",
    "        for post in redeSocial:\n",
    "            if post[\"id\"] == id_dado:\n",
    "                post_retirar = post\n",
    "        certeza = input(\"Tem a certeza que quer remover o post p\" + str(id) + \" ? \\nPara confirmar digite 'Sim'\")\n",
    "        if certeza == \"Sim\":\n",
    "            del redeSocial[id-1]\n",
    "        return \"O post foi removido com sucesso! A sua rede social agora é: \" + str(redeSocial)\n",
    "    else: \n",
    "        print(\"O id inserido não é válido\")\n",
    "\n",
    "remPost(MyFaceBook, 3)"
   ]
  },
  {
   "cell_type": "markdown",
   "id": "de46a635",
   "metadata": {},
   "source": [
    "#### f) `postsPorAutor`, que devolve uma distribuição de posts por autor (à semelhança do que foi feito nas aulas)."
   ]
  },
  {
   "cell_type": "code",
   "execution_count": 26,
   "id": "4118730d",
   "metadata": {},
   "outputs": [
    {
     "data": {
      "image/png": "[encoded data removed]",
      "text/plain": [
       "<Figure size 640x480 with 1 Axes>"
      ]
     },
     "metadata": {},
     "output_type": "display_data"
    }
   ],
   "source": [
    "import matplotlib.pyplot as plt \n",
    "\n",
    "def postsPorAutor(redeSocial):\n",
    "    autores=[]\n",
    "    for post in redeSocial:\n",
    "        autores.append(post[\"autor\"])\n",
    "    dic_autores = {}\n",
    "    for autor in autores:\n",
    "        if autor in dic_autores:\n",
    "            dic_autores[autor] = dic_autores[autor] + 1\n",
    "        else:\n",
    "            dic_autores[autor] = 1\n",
    "\n",
    "    xValores =list(dic_autores.keys())\n",
    "    yValores = list(dic_autores.values())\n",
    "\n",
    "    plt.bar(xValores, yValores, color='pink')\n",
    "\n",
    "    plt.xlabel(\"Autores\")\n",
    "    \n",
    "    plt.title(\"Distribuição de posts por autor\")\n",
    "\n",
    "    plt.show()\n",
    "\n",
    "\n",
    "postsPorAutor(MyFaceBook)"
   ]
  },
  {
   "cell_type": "markdown",
   "id": "5b1d7d7a",
   "metadata": {},
   "source": [
    "#### g) `comentadoPor`, que recebe um autor e devolve a lista de posts comentados por esse autor."
   ]
  },
  {
   "cell_type": "code",
   "execution_count": 31,
   "metadata": {},
   "outputs": [
    {
     "name": "stdout",
     "output_type": "stream",
     "text": [
      "[{'id': 'p1', 'conteudo': 'A tarefa de avaliação é talvez a mais ingrata das tarefas que um professor tem de realizar...', 'autor': 'jcr', 'dataCriacao': '2023-07-20', 'comentarios': [{'comentario': 'Completamente de acordo...', 'autor': 'prh'}, {'comentario': 'Mas há quem goste...', 'autor': 'jj'}]}, {'id': 'p2', 'conteudo': 'Hoje esteve um ótimo dia ', 'autor': 'Carolina ', 'dataCriacao': '2023-11-20', 'comentarios': [{'comentario': 'Estava um ótimo dia para passear ', 'autor': 'Ana'}]}]\n"
     ]
    }
   ],
   "source": [
    "print(MyFaceBook)"
   ]
  },
  {
   "cell_type": "code",
   "execution_count": 33,
   "id": "a91f2619",
   "metadata": {},
   "outputs": [
    {
     "name": "stdout",
     "output_type": "stream",
     "text": [
      "O autor que inseriu não tem comentários na rede social\n",
      "O autor que inseriu não tem comentários na rede social\n"
     ]
    },
    {
     "data": {
      "text/plain": [
       "[{'id': 'p2',\n",
       "  'conteudo': 'Hoje esteve um ótimo dia ',\n",
       "  'autor': 'Carolina ',\n",
       "  'dataCriacao': '2023-11-20',\n",
       "  'comentarios': [{'comentario': 'Estava um ótimo dia para passear ',\n",
       "    'autor': 'Ana'}]}]"
      ]
     },
     "execution_count": 33,
     "metadata": {},
     "output_type": "execute_result"
    }
   ],
   "source": [
    "def comentadoPor(redeSocial, autor):\n",
    "    lpostcomentadoa = []\n",
    "    for post in redeSocial:\n",
    "        if \"comentarios\" in post:\n",
    "            for comentario in post[\"comentarios\"]:\n",
    "                if comentario[\"autor\"] == autor:\n",
    "                    lpostcomentadoa.append(post)\n",
    "                else: \n",
    "                    print(\"O autor que inseriu não tem comentários no post\")\n",
    "\n",
    "    return lpostcomentadoa\n",
    "\n",
    "\n",
    "comentadoPor(MyFaceBook,\"Ana\")"
   ]
  }
 ],
 "metadata": {
  "kernelspec": {
   "display_name": "Python 3.9.1 64-bit",
   "language": "python",
   "name": "python3"
  },
  "language_info": {
   "codemirror_mode": {
    "name": "ipython",
    "version": 3
   },
   "file_extension": ".py",
   "mimetype": "text/x-python",
   "name": "python",
   "nbconvert_exporter": "python",
   "pygments_lexer": "ipython3",
   "version": "3.10.2"
  },
  "vscode": {
   "interpreter": {
    "hash": "aee8b7b246df8f9039afb4144a1f6fd8d2ca17a180786b69acc140d282b71a49"
   }
  }
 },
 "nbformat": 4,
 "nbformat_minor": 5
}
