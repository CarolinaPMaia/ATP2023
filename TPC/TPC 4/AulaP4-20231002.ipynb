{
 "cells": [
  {
   "cell_type": "markdown",
   "id": "1e545158",
   "metadata": {},
   "source": [
    "# Aula Prática 4 (guião)\n",
    "### Semana de 2 a 6 de Outubro de 2023\n",
    "### José Carlos Ramalho e Luís Cunha\n",
    "### Sinopsis:\n",
    "Algoritmos sobre listas."
   ]
  },
  {
   "cell_type": "markdown",
   "id": "e38d18c4-d7d7-4fea-9bc6-e3f3c903386b",
   "metadata": {},
   "source": [
    "### Exercício 1: Criar uma lista \n",
    "- Defina uma função que recebe um argumento **N** e devolve uma  lista com os números ímpares até **N**;\n",
    "- Crie um programa que chama a função e imprime a lista resultante."
   ]
  },
  {
   "cell_type": "code",
   "execution_count": 6,
   "id": "af973146-3bb4-4fa8-ba6c-b887b79ccff8",
   "metadata": {},
   "outputs": [
    {
     "data": {
      "text/plain": [
       "[1, 3, 5, 7, 9, 11, 13, 15, 17, 19, 21, 23, 25]"
      ]
     },
     "execution_count": 6,
     "metadata": {},
     "output_type": "execute_result"
    }
   ],
   "source": [
    "# Solução do exercício 1\n",
    "def criaLista(N):\n",
    "    nimpares=[]\n",
    "    for n in range(0,N+1):\n",
    "        if n % 2 == 1:\n",
    "            nimpares.append(n)\n",
    "    return nimpares\n",
    "\n",
    "N = int(input(\"Insira um número N:\"))\n",
    "criaLista(N)\n",
    "\n",
    "#outra solução \n",
    "\n",
    "#def leLista(N):\n",
    "#    lista = []\n",
    "#    n = 0\n",
    "#    while n <= N:\n",
    "#       if n % 2 == 1: \n",
    "#           lista.append(n)\n",
    "#       n = n + 1\n",
    "#    return lista\n",
    "\n",
    "\n",
    "#outra solução \n",
    "\n",
    "#def leLista(N):\n",
    "#    lista = []\n",
    "#    n = 1\n",
    "#    while n <= N:\n",
    "#       lista.append(n)\n",
    "#       n = n + 2\n",
    "#    return lista"
   ]
  },
  {
   "cell_type": "code",
   "execution_count": 11,
   "id": "6959ab08",
   "metadata": {},
   "outputs": [
    {
     "data": {
      "text/plain": [
       "[1, 3, 5]"
      ]
     },
     "execution_count": 11,
     "metadata": {},
     "output_type": "execute_result"
    }
   ],
   "source": [
    "#outra forma \n",
    "def criaLista4(N):\n",
    "    return [x for x in range(0, N+1) if x % 2 == 1]\n",
    "\n",
    "N = int(input(\"Insira um número N:\"))\n",
    "criaLista4(N)"
   ]
  },
  {
   "cell_type": "markdown",
   "id": "bdcbffb0",
   "metadata": {},
   "source": [
    "### Exercício 2: Ler uma lista de N números\n",
    "- Defina uma função que recebe um argumento **N** e lê **N** números armazenando-os numa lista que é devolvida como resultado;\n",
    "- Crie um programa que chama a função e imprime a lista resultante."
   ]
  },
  {
   "cell_type": "code",
   "execution_count": 13,
   "id": "af973146-3bb4-4fa8-ba6c-b887b79ccff8",
   "metadata": {},
   "outputs": [
    {
     "data": {
      "text/plain": [
       "[8, 9, 7, 5, 2, 4]"
      ]
     },
     "execution_count": 13,
     "metadata": {},
     "output_type": "execute_result"
    }
   ],
   "source": [
    "# Solução do exercício 2\n",
    "def leLista(N):\n",
    "    lista = []\n",
    "    a = 1\n",
    "    while N > 0:\n",
    "        x = int(input(\"Insira um número \" + str(a) + \" :\"))\n",
    "        lista.append(x)\n",
    "        a = a + 1\n",
    "        N = N - 1\n",
    "    return lista\n",
    "\n",
    "N = int(input(\"Quantos números N vai ler:\"))\n",
    "leLista(N)\n"
   ]
  },
  {
   "cell_type": "markdown",
   "id": "bdcbffb0",
   "metadata": {},
   "source": [
    "### Exercício 3: Somar uma lista de números\n",
    "- Defina uma função que recebe uma lista como argumento e devolve a soma dos números nessa lista."
   ]
  },
  {
   "cell_type": "code",
   "execution_count": 25,
   "id": "64ad6f7b",
   "metadata": {},
   "outputs": [
    {
     "name": "stdout",
     "output_type": "stream",
     "text": [
      "104\n"
     ]
    }
   ],
   "source": [
    "# Solução do exercício 3\n",
    "def somaLista(lista):\n",
    "    soma = 0\n",
    "    for x in lista:\n",
    "        soma = soma + x\n",
    "    return soma \n",
    "\n",
    "listaA = [1, 6, 7, 40, 50]\n",
    "print(somaLista(listaA))"
   ]
  },
  {
   "cell_type": "markdown",
   "id": "65565661",
   "metadata": {},
   "source": [
    "### Exercício 4: Quadrado dos elementos de uma lista\n",
    "\n",
    "- Defina uma função que recebe uma lista como argumento e devolve uma nova lista com os quadrados de cada número da lista inicial. \n",
    "\n",
    "#### Input (exemplo)\n",
    "in: [1, 2, 3, 4]\n",
    "#### Output (exemplo)\n",
    "out: [1, 4, 9, 16]"
   ]
  },
  {
   "cell_type": "code",
   "execution_count": 28,
   "id": "7e3e2775",
   "metadata": {},
   "outputs": [
    {
     "name": "stdout",
     "output_type": "stream",
     "text": [
      "[1, 4, 9, 16]\n"
     ]
    }
   ],
   "source": [
    "# Solução do exercício 4\n",
    "def quadrados(lista):\n",
    "    out = []\n",
    "    for n in lista:\n",
    "        out.append(n*n)\n",
    "    return out \n",
    "\n",
    "listaA = [1, 2, 3, 4]\n",
    "print(quadrados(listaA))"
   ]
  },
  {
   "cell_type": "markdown",
   "id": "bdcbffb0",
   "metadata": {},
   "source": [
    "### Exercício 5: Calcular a média duma lista de números\n",
    "- Defina uma função que recebe uma lista como argumento e devolve a média dos números nessa lista."
   ]
  },
  {
   "cell_type": "code",
   "execution_count": 34,
   "id": "a6c32b2e",
   "metadata": {},
   "outputs": [
    {
     "name": "stdout",
     "output_type": "stream",
     "text": [
      "17.75\n"
     ]
    }
   ],
   "source": [
    "# Solução do exercício 5\n",
    "#len tamanho de uma lista\n",
    "def mediaLista(lista):\n",
    "    soma = 0\n",
    "    for n in lista:\n",
    "        soma = soma + n\n",
    "    return  soma/len(lista)\n",
    "\n",
    "listaA = [6, 10, 20, 35]\n",
    "print(mediaLista(listaA))\n",
    "    "
   ]
  },
  {
   "cell_type": "markdown",
   "id": "f41ef69b",
   "metadata": {},
   "source": [
    "### Exercício 6: Maior de uma sequência\n",
    "- Defina uma função que recebe uma lista como argumento e devolve o maior número nessa lista."
   ]
  },
  {
   "cell_type": "code",
   "execution_count": 16,
   "id": "86f5b24d",
   "metadata": {},
   "outputs": [
    {
     "name": "stdout",
     "output_type": "stream",
     "text": [
      "24\n"
     ]
    }
   ],
   "source": [
    "# Solução do exercício 6\n",
    "#[1:] quer dizer que passa logo para o segundo elemento da lista porque é [0,1,2,...]\n",
    "def maiorLista(lista):\n",
    "    maior = lista[0] \n",
    "    for n in lista[1:]:\n",
    "        if n > maior:\n",
    "            maior = n \n",
    "    return maior\n",
    "\n",
    "listaA = [7, 24, 3, 9]\n",
    "print(maiorLista(listaA))\n"
   ]
  },
  {
   "cell_type": "markdown",
   "id": "d11cdd11",
   "metadata": {},
   "source": [
    "### Exercício 6: Menor de uma sequência\n",
    "- Defina uma função que recebe uma lista como argumento e devolve o menor número nessa lista."
   ]
  },
  {
   "cell_type": "code",
   "execution_count": 39,
   "id": "7549c7d7",
   "metadata": {},
   "outputs": [
    {
     "name": "stdout",
     "output_type": "stream",
     "text": [
      "3\n"
     ]
    }
   ],
   "source": [
    "# Solução do exercício 6\n",
    "def menorLista(lista):\n",
    "    menor = lista[0] \n",
    "    for n in lista[1:]:\n",
    "        if n < menor:\n",
    "            menor = n \n",
    "    return menor\n",
    "\n",
    "listaA = [7, 24, 3, 9]\n",
    "print(menorLista(listaA))\n"
   ]
  },
  {
   "cell_type": "markdown",
   "id": "bb597e57",
   "metadata": {},
   "source": [
    "### Exercício 7: Contar Ocorrências\n",
    "- Defina uma função que recebe uma lista e um elemento como argumento, e que devolve o número de ocurrências desse elemento na lista."
   ]
  },
  {
   "cell_type": "code",
   "execution_count": 5,
   "id": "e426e923",
   "metadata": {},
   "outputs": [
    {
     "name": "stdout",
     "output_type": "stream",
     "text": [
      "3\n"
     ]
    }
   ],
   "source": [
    "# Solução do exercício 7\n",
    "def occor(lista, elem):\n",
    "    contador = 0 \n",
    "    for n in lista:\n",
    "        if n == elem:\n",
    "            contador = contador + 1\n",
    "    return contador  \n",
    "\n",
    "listaA = [1, 2 , 6 , 3, 1, 5, 1, 9]\n",
    "elemA = 1\n",
    "print (occor(listaA, elemA))"
   ]
  },
  {
   "cell_type": "markdown",
   "id": "775a02a5",
   "metadata": {},
   "source": [
    "### Exercício 8: Contar strings\n",
    "- Defina uma função que recebe uma lista de strings como argumento e devolve número de strings nessa lista que:\n",
    "    1. Têm tamanho maior ou igual a 3;\n",
    "    2. Começam e terminam pelo mesmo caracter.\n",
    "#### Input (exemplo)\n",
    "in: ['abc', 'xyz', 'ab', '1221']\n",
    "#### Output (exemplo)\n",
    "out1: 3\n",
    "\n",
    "out2: 1"
   ]
  },
  {
   "cell_type": "code",
   "execution_count": 10,
   "id": "7390bc6a",
   "metadata": {},
   "outputs": [
    {
     "name": "stdout",
     "output_type": "stream",
     "text": [
      "4\n"
     ]
    }
   ],
   "source": [
    "# Solução do exercício 8\n",
    "def contarStringsLista(lista):\n",
    "    contador = 0\n",
    "    for n in lista:\n",
    "        if len(n)>=3:\n",
    "            if n[0]==n[-1]:\n",
    "                contador = contador + 1\n",
    "    return contador \n",
    "\n",
    "listaA = [\"abda\", \"ccbfc\", \"abcd\", \"ab\", \"cdc\"]\n",
    "print (contarStringsLista(listaA))"
   ]
  },
  {
   "cell_type": "markdown",
   "id": "f9ba457b",
   "metadata": {},
   "source": [
    "### Exercício 9: Remover duplicados\n",
    "- Defina uma função que recebe uma lista como argumento e devolve uma nova lista eliminando elementos repetidos."
   ]
  },
  {
   "cell_type": "code",
   "execution_count": 14,
   "id": "0abc61e5",
   "metadata": {},
   "outputs": [
    {
     "name": "stdout",
     "output_type": "stream",
     "text": [
      "[1, 2, 5, 4, 7, 6, 8, 9]\n"
     ]
    }
   ],
   "source": [
    "# Solução do exercício 9\n",
    "def remDupLista(lista):\n",
    "    listanr = []\n",
    "    for n in lista:\n",
    "        if n not in listanr:\n",
    "            listanr.append(n)\n",
    "    return listanr\n",
    "\n",
    "lista = [1, 2, 5, 4, 1 , 7, 6, 8, 7, 9, 5]\n",
    "print (remDupLista(lista))"
   ]
  },
  {
   "cell_type": "markdown",
   "id": "9bc471d8",
   "metadata": {},
   "source": [
    "### Exercício 10: eVazia?\n",
    "- Defina uma função que recebe uma lista como argumento e devolve um resultado booleano verdadeiro se a lista estiver vazia."
   ]
  },
  {
   "cell_type": "code",
   "execution_count": 7,
   "id": "18cf2aff",
   "metadata": {},
   "outputs": [
    {
     "name": "stdout",
     "output_type": "stream",
     "text": [
      "True\n"
     ]
    }
   ],
   "source": [
    "# Solução do exercício 10\n",
    "# resultado booleano: True ou False\n",
    "def eVazia(lista):\n",
    "    if len(lista) == 0:\n",
    "        n = True\n",
    "    else:\n",
    "        n = False \n",
    "    return n \n",
    "\n",
    "listaA = []\n",
    "print (eVazia(listaA))"
   ]
  },
  {
   "cell_type": "markdown",
   "id": "72b8fac0",
   "metadata": {},
   "source": [
    "### Exercício 11: Copiar lista\n",
    "- Defina uma função que recebe uma lista como argumento e devolve uma nova lista correspondente a uma cópia da lista recebida."
   ]
  },
  {
   "cell_type": "code",
   "execution_count": 8,
   "id": "a61ca503",
   "metadata": {},
   "outputs": [
    {
     "name": "stdout",
     "output_type": "stream",
     "text": [
      "[1, 5, 8, 9, 15]\n"
     ]
    }
   ],
   "source": [
    "# Solução do exercício 11\n",
    "# [:] quer dizer que começa no primeiro elemento e vai até ao último elemento da lista, o que faz criar uma cópia da lista original\n",
    "def copiarLista(lista):\n",
    "    listac = lista[:]\n",
    "    return listac\n",
    "\n",
    "listaA=[1, 5, 8, 9, 15]\n",
    "print(copiarLista(listaA))"
   ]
  },
  {
   "cell_type": "markdown",
   "id": "d170cc50",
   "metadata": {},
   "source": [
    "### Exercício 12: Strings maiores que n carateres\n",
    "- Defina uma função que recebe dois argumentos, uma lista de strings e um número inteiro, e que devolve uma nova lista de strings em que estas têm um comprimento igual ou superior ao valor inteiro passado como argumento."
   ]
  },
  {
   "cell_type": "code",
   "execution_count": 10,
   "id": "1944ef1d",
   "metadata": {},
   "outputs": [
    {
     "name": "stdout",
     "output_type": "stream",
     "text": [
      "['animal', 'cinema', 'televisao']\n"
     ]
    }
   ],
   "source": [
    "# Solução do exercício 12\n",
    "from random import randint\n",
    "\n",
    "def stringsMaioresLista(lista, n):\n",
    "    listaacn = []\n",
    "    for string in lista:\n",
    "        if len(string) >= n:\n",
    "            listaacn.append(string)\n",
    "    return listaacn\n",
    "\n",
    "listaA = [\"ola\", \"animal\", \"cinema\", \"pao\", \"televisao\"]\n",
    "n = 5\n",
    "\n",
    "print(stringsMaioresLista(listaA, n))"
   ]
  },
  {
   "cell_type": "markdown",
   "id": "af46fe06",
   "metadata": {},
   "source": [
    "### Exercício 13: Comum?\n",
    "- Defina uma função que recebe duas listas como argumento, e que devolve o valor booleano verdadeiro se as listas tiverem pelo menos um elemento comum."
   ]
  },
  {
   "cell_type": "code",
   "execution_count": 13,
   "id": "7a2f4413",
   "metadata": {},
   "outputs": [
    {
     "name": "stdout",
     "output_type": "stream",
     "text": [
      "False\n"
     ]
    }
   ],
   "source": [
    "# Solução do exercício 13\n",
    "def haComuns(listaA, listaB):\n",
    "    resultado = False\n",
    "    for n in listaA:\n",
    "        if n in listaB:\n",
    "            resultado = True\n",
    "    return resultado \n",
    "\n",
    "listaA = [1, 2, 3, 5, 7]\n",
    "listaB = [8, 9, 6, 4]\n",
    "\n",
    "print(haComuns(listaA, listaB))"
   ]
  },
  {
   "cell_type": "markdown",
   "id": "061bae0e",
   "metadata": {},
   "source": [
    "### Exercício 14: Comuns\n",
    "- Defina uma função que recebe duas listas como argumento, e que devolve uma nova lista com os valores comuns às duas listas."
   ]
  },
  {
   "cell_type": "code",
   "execution_count": 14,
   "id": "02db9458",
   "metadata": {},
   "outputs": [
    {
     "name": "stdout",
     "output_type": "stream",
     "text": [
      "[1, 5]\n"
     ]
    }
   ],
   "source": [
    "# Solução do exercício 14\n",
    "def comuns(listaA, listaB):\n",
    "    listac = []\n",
    "    for n in listaA:\n",
    "        if n in listaB:\n",
    "            listac.append(n)\n",
    "    return listac\n",
    "\n",
    "listaA = [1, 2, 3, 4, 5]\n",
    "listaB = [6, 7, 8, 9, 1, 5]\n",
    "print(comuns(listaA, listaB))"
   ]
  },
  {
   "cell_type": "markdown",
   "id": "af4f2b11",
   "metadata": {},
   "source": [
    "### Exercício 15: Únicos\n",
    "- Defina uma função que recebe duas listas como argumento, e que devolve uma nova lista com os valores que apenas existem numa delas."
   ]
  },
  {
   "cell_type": "code",
   "execution_count": 15,
   "id": "01a0d35e",
   "metadata": {},
   "outputs": [
    {
     "name": "stdout",
     "output_type": "stream",
     "text": [
      "[1, 2, 3, 4, 7, 8, 9, 10]\n"
     ]
    }
   ],
   "source": [
    "# Solução do exercício 15\n",
    "def unicos(listaA, listaB):\n",
    "    listau = []\n",
    "    for n in listaA:\n",
    "        if n not in listaB:\n",
    "            listau.append(n)\n",
    "    \n",
    "    for n in listaB:\n",
    "        if n not in listaA:\n",
    "            listau.append(n)\n",
    "\n",
    "    return listau\n",
    "\n",
    "listaA = [1, 2, 3, 4, 5, 6]\n",
    "listaB = [5, 6, 7, 8, 9, 10]\n",
    "\n",
    "print (unicos(listaA, listaB))"
   ]
  },
  {
   "cell_type": "markdown",
   "id": "2acbab46",
   "metadata": {},
   "source": [
    "### Exercício 16: indiceDe\n",
    "- Defina uma função que recebe uma lista e um elemento como argumento, e que devolve o índice desse elemento na lista. No caso do elemento não existir na lista deverá devolver o valor -1."
   ]
  },
  {
   "cell_type": "code",
   "execution_count": 23,
   "id": "3891e6c3",
   "metadata": {},
   "outputs": [
    {
     "name": "stdout",
     "output_type": "stream",
     "text": [
      "O índice do elem na lista é -1\n"
     ]
    }
   ],
   "source": [
    "# Solução do exercício 16\n",
    "def unicos(lista, elem):\n",
    "    \n",
    "    for n in lista:\n",
    "        if elem in lista:\n",
    "            i = lista.index(elem)\n",
    "        elif elem not in lista:\n",
    "            i = -1\n",
    "\n",
    "    return \"O índice do elem na lista é \" + str(i)\n",
    "\n",
    "listaA = [1, 2, 3, 5 , 7, 9, 4]\n",
    "elem = 6\n",
    "\n",
    "print (unicos(listaA, elem))\n"
   ]
  },
  {
   "cell_type": "markdown",
   "id": "1d9c2fbc",
   "metadata": {},
   "source": [
    "### Exercício 17: estaOrdenada\n",
    "- Defina uma função que recebe uma lista de números e verifica se a mesma está ordenada por ordem crescente."
   ]
  },
  {
   "cell_type": "code",
   "execution_count": 42,
   "id": "fb44546a",
   "metadata": {},
   "outputs": [
    {
     "name": "stdout",
     "output_type": "stream",
     "text": [
      "False\n"
     ]
    }
   ],
   "source": [
    "# Solução do exercício 17\n",
    "def estaOrdenada(lista):\n",
    "    tam = len(lista)\n",
    "    while tam > 0:\n",
    "        for n in range(0, tam - 1):\n",
    "            if lista[n]> lista[n + 1]:\n",
    "                return False \n",
    "        return True\n",
    "    tam = tam - 1\n",
    "\n",
    "listaA = [1, 2, 3, 4, 5, 9, 7]\n",
    "\n",
    "print(estaOrdenada(listaA))"
   ]
  },
  {
   "cell_type": "markdown",
   "id": "4c48dc90",
   "metadata": {},
   "source": [
    "### Exercício 18: estaOrdenadaCD\n",
    "- Modifique a função do exercício anterior para receber um parâmetro extra, **ordem**, que poderá ter valores \"C\" ou \"D\" e que vai verificar se a lista está ordenada por ordem crescente se **ordem=\"C\"** ou se está ordenada por ordem decrescente se **ordem=\"D\"**."
   ]
  },
  {
   "cell_type": "code",
   "execution_count": 49,
   "id": "f4b83960",
   "metadata": {},
   "outputs": [
    {
     "name": "stdout",
     "output_type": "stream",
     "text": [
      "False\n"
     ]
    }
   ],
   "source": [
    "# Solução do exercício 18\n",
    "def estaOrdenadaCD(lista, ordem):\n",
    "    tam = len(lista)\n",
    "    while tam > 0:\n",
    "        for n in range(0, tam - 1):\n",
    "            if ordem == \"C\":\n",
    "                if lista[n]> lista[n + 1]:\n",
    "                    return False \n",
    "            elif ordem == \"D\":\n",
    "                if lista[n] < lista[n + 1]:\n",
    "                    return False \n",
    "        return True\n",
    "        tam = tam - 1\n",
    "\n",
    "listaA = [1, 2, 9, 5, 6, 7]\n",
    "ordem = \"C\"\n",
    "print(estaOrdenadaCD(listaA,ordem))"
   ]
  },
  {
   "cell_type": "markdown",
   "id": "4193a91b",
   "metadata": {},
   "source": [
    "### TPC4: Aplicação para manipulação de listas de inteiros\n",
    "- Crie uma aplicação em Python que coloca no monitor o seguinte menu:\n",
    "    * (1) Criar Lista \n",
    "    * (2) Ler Lista\n",
    "    * (3) Soma\n",
    "    * (4) Média\n",
    "    * (5) Maior\n",
    "    * (6) Menor\n",
    "    * (7) estaOrdenada por ordem crescente\n",
    "    * (8) estaOrdenada por ordem decrescente\n",
    "    * (9) Procura um elemento\n",
    "    * (0) Sair\n",
    "- O utilizador irá escolher uma das opções introduzindo o número correspondente;\n",
    "- Se a opção não for sair, a aplicação executa a operação pretendida, apresenta o resultado e a seguir apresenta de novo o menu;\n",
    "- Se a opção for sair, a aplicação termina colocando uma mensagem no monitor.\n",
    "\n",
    "* No desenvolvimento da aplicação deverá ter em atenção o seguinte:\n",
    "    - A aplicação terá uma variável interna para guardar uma lista de números;\n",
    "    - Na opção 1, deverá ser criada uma lista de números aleatórios entre 1 e 100 que será guardada na variável interna;\n",
    "    - Na opção 2, deverá ser criada uma lista com números introduzidos pelo utilizador, que será guardada na variável interna;\n",
    "    - Nestas primeiras opções, se a variável interna já tiver uma lista, esta será sobreposta/apagada pela nova lista;\n",
    "    - Na opção 3, será calculada a soma dos elementos na lista no momento;\n",
    "    - Na opção 4, será calculada a média dos elementos na lista no momento;\n",
    "    - Na opção 5, será calculado o maior elemento da lista no momento;\n",
    "    - Na opção 6, será calculado o menor elemento da lista no momento;\n",
    "    - Na opção 7, a aplicação deverá indicar (Sim/Não) se a lista está ordenada por ordem crescente;\n",
    "    - Na opção 8, a aplicação deverá indicar (Sim/Não) se a lista está ordenada por ordem decrescente;\n",
    "    - Na opção 9, a aplicação irá procurar um elemento na lista, se o encontrar deverá devolver a sua posição, devolverá -1 se o elemento não estiver na lista;\n",
    "    - Se o utilizador selecionar a opção 0, a aplicação deverá terminar mostrando a lista que está nesse momento guardada."
   ]
  },
  {
   "cell_type": "code",
   "execution_count": 8,
   "id": "e615f456",
   "metadata": {},
   "outputs": [
    {
     "name": "stdout",
     "output_type": "stream",
     "text": [
      "Menu: \n",
      " (1) Criar Lista \n",
      " (2) Ler Lista \n",
      " (3) Soma \n",
      " (4) Média \n",
      " (5) Maior \n",
      " (6) Menor \n",
      " (7) estaOrdenada por ordem crescente \n",
      " (8) estaOrdenada por ordem decrescente \n",
      " (9) Procura um elemento \n",
      " (0) Sair\n"
     ]
    },
    {
     "name": "stdout",
     "output_type": "stream",
     "text": [
      "A lista gerada é [7, 12, 20, 35]\n",
      "Menu: \n",
      " (1) Criar Lista \n",
      " (2) Ler Lista \n",
      " (3) Soma \n",
      " (4) Média \n",
      " (5) Maior \n",
      " (6) Menor \n",
      " (7) estaOrdenada por ordem crescente \n",
      " (8) estaOrdenada por ordem decrescente \n",
      " (9) Procura um elemento \n",
      " (0) Sair\n",
      "A lista está ordenada por ordem crescente? - Sim!\n",
      "Menu: \n",
      " (1) Criar Lista \n",
      " (2) Ler Lista \n",
      " (3) Soma \n",
      " (4) Média \n",
      " (5) Maior \n",
      " (6) Menor \n",
      " (7) estaOrdenada por ordem crescente \n",
      " (8) estaOrdenada por ordem decrescente \n",
      " (9) Procura um elemento \n",
      " (0) Sair\n",
      "A aplicação terminou! Até à próxima! A lista que ficou guardada no programa foi [7, 12, 20, 35]\n"
     ]
    }
   ],
   "source": [
    "#\\n é para fazer parágrafo\n",
    "\n",
    "from random import randint\n",
    "\n",
    "menu = (\"Menu: \\n (1) Criar Lista \\n (2) Ler Lista \\n (3) Soma \\n (4) Média \\n (5) Maior \\n (6) Menor \\n (7) estaOrdenada por ordem crescente \\n (8) estaOrdenada por ordem decrescente \\n (9) Procura um elemento \\n (0) Sair\")\n",
    "print (menu)\n",
    "opc = int(input(\"Insira a opção que deseja: \"))\n",
    "\n",
    "lista = []\n",
    "\n",
    "while opc != 0:\n",
    "\n",
    "    if opc == 1:\n",
    "\n",
    "        lista.clear()\n",
    "        N = int(input(\"Quantos números quer na lista? \"))\n",
    "        while N > 0:\n",
    "            lista.append(randint(1,100))\n",
    "            N = N - 1\n",
    "        print (\"A lista gerada é \" + str(lista))\n",
    "        print (menu) \n",
    "        opc = int(input(\"Insira a opção que deseja: \"))\n",
    "\n",
    "    if opc == 2:\n",
    "\n",
    "        lista.clear() \n",
    "        N = int(input(\"Quantos números quer na lista? \"))\n",
    "        while N > 0:\n",
    "            num = int(input(\"Insira um número para a lista: \"))\n",
    "            lista.append(num)\n",
    "            N = N - 1\n",
    "        print (\"A lista gerada é \" + str(lista))\n",
    "        print (menu)\n",
    "        opc = int(input(\"Insira a opção que deseja: \"))\n",
    "\n",
    "    if opc == 3:\n",
    "        soma = 0\n",
    "        for x in lista:\n",
    "            soma = soma + x\n",
    "        print (\"A soma dos elementos da lista é \" + str(soma))\n",
    "        print (menu)\n",
    "        opc = int(input(\"Insira a opção que deseja: \"))\n",
    "\n",
    "    if opc == 4:\n",
    "        soma = 0\n",
    "        for x in lista:\n",
    "            soma = soma + x\n",
    "            média = soma/len(lista)\n",
    "        print (\"A média dos elementos da lista é \" + str(média))\n",
    "        print (menu)\n",
    "        opc = int(input(\"Insira a opção que deseja: \"))\n",
    "    \n",
    "    if opc == 5:\n",
    "        maior = lista[0] \n",
    "        for x in lista[1:]:\n",
    "            if x > maior:\n",
    "                maior = x \n",
    "        print (\"O maior elemento da lista é \" + str(maior))\n",
    "        print (menu)\n",
    "        opc = int(input(\"Insira a opção que deseja: \"))\n",
    "\n",
    "    if opc == 6:\n",
    "        menor = lista[0] \n",
    "        for x in lista[1:]:\n",
    "            if x < menor:\n",
    "                menor = x \n",
    "        print (\"O menor elemento da lista é \" + str(menor))\n",
    "        print (menu)\n",
    "        opc = int(input(\"Insira a opção que deseja: \"))\n",
    "        \n",
    "    if opc == 7:\n",
    "        tam = len(lista)\n",
    "        ordem = \"Sim!\"\n",
    "        while tam > 0:\n",
    "            for x in range(0, tam - 1):\n",
    "                if lista[x] > lista[x + 1]:\n",
    "                    ordem = \"Não!\"\n",
    "            tam = tam - 1\n",
    "        print(\"A lista está ordenada por ordem crescente? - \" + str(ordem))\n",
    "        print (menu)\n",
    "        opc = int(input(\"Insira a opção que deseja: \"))\n",
    "    \n",
    "    if opc == 8:\n",
    "        tam = len(lista)\n",
    "        ordem = \"Sim!\"\n",
    "        while tam > 0:\n",
    "            for x in range(0, tam - 1):\n",
    "                if lista[x] < lista[x + 1]:\n",
    "                    ordem = \"Não!\"\n",
    "            tam = tam - 1\n",
    "        print(\"A lista está ordenada por ordem decrescente? - \" + str(ordem))\n",
    "        print (menu)\n",
    "        opc = int(input(\"Insira a opção que deseja: \"))\n",
    "\n",
    "    if opc == 9:\n",
    "        elem = int(input(\"Qual o elemento que quer procurar na lista? \"))\n",
    "        if elem in lista:\n",
    "            i = lista.index(elem)\n",
    "        elif elem not in lista:\n",
    "            i = -1\n",
    "        print(\"O índice do elemento na lista é \" + str(i))\n",
    "        print (menu)\n",
    "        opc = int(input(\"Insira a opção que deseja: \"))\n",
    "        \n",
    "if opc == 0: \n",
    "    print(\"A aplicação terminou! Até à próxima! A lista que ficou guardada no programa foi \" + str(lista))\n",
    "\n",
    "        \n",
    "\n",
    "        \n",
    "        \n",
    "\n",
    "\n",
    "\n",
    "\n"
   ]
  }
 ],
 "metadata": {
  "kernelspec": {
   "display_name": "Python 3.9.1 64-bit",
   "language": "python",
   "name": "python3"
  },
  "language_info": {
   "codemirror_mode": {
    "name": "ipython",
    "version": 3
   },
   "file_extension": ".py",
   "mimetype": "text/x-python",
   "name": "python",
   "nbconvert_exporter": "python",
   "pygments_lexer": "ipython3",
   "version": "3.10.2"
  },
  "vscode": {
   "interpreter": {
    "hash": "aee8b7b246df8f9039afb4144a1f6fd8d2ca17a180786b69acc140d282b71a49"
   }
  }
 },
 "nbformat": 4,
 "nbformat_minor": 5
}
