{
 "cells": [
  {
   "cell_type": "markdown",
   "id": "1e545158",
   "metadata": {},
   "source": [
    "# Aula Prática 2 (guião)\n",
    "### Semana de 26 a 30 de Setembro de 2022\n",
    "### José Carlos Ramalho e Luís Cunha\n",
    "### Sinopsis:\n",
    "Algoritmos de cálculo numérico envolvendo estruturas condicionais (if-elif-else) e cíclicas (while)."
   ]
  },
  {
   "cell_type": "markdown",
   "id": "e38d18c4-d7d7-4fea-9bc6-e3f3c903386b",
   "metadata": {},
   "source": [
    "### Exercício 1: Soma de N números\n",
    "- Leia um número N;\n",
    "- Leia N números;\n",
    "- Imprima a soma dos N números."
   ]
  },
  {
   "cell_type": "code",
   "execution_count": 6,
   "id": "af973146-3bb4-4fa8-ba6c-b887b79ccff8",
   "metadata": {},
   "outputs": [
    {
     "name": "stdout",
     "output_type": "stream",
     "text": [
      "48\n"
     ]
    }
   ],
   "source": [
    "# Solução do exercício 1\n",
    "n = int(input(\"Quantos números vai ler:\"))\n",
    "soma = 0\n",
    "while n > 0: \n",
    "    k = int(input(\"Insira um número para a adição:\"))\n",
    "    soma = soma + k\n",
    "    n = n - 1\n",
    "print (soma)"
   ]
  },
  {
   "cell_type": "code",
   "execution_count": null,
   "id": "d14b8592",
   "metadata": {},
   "outputs": [],
   "source": [
    "# Solução do exercício 1 com alteração da mensagem \n",
    "n = int(input(\"Quantos números vai ler:\"))\n",
    "soma = 0\n",
    "j = 1\n",
    "while n > 0: \n",
    "    k = int(input(\"Insira um número para a adição \" + str(j) + \" :\"))\n",
    "    soma = soma + k\n",
    "    j = j + 1\n",
    "    n = n - 1\n",
    "print (soma)"
   ]
  },
  {
   "cell_type": "markdown",
   "id": "13b62657",
   "metadata": {},
   "source": [
    "### Exercício 1.5: Números pares\n",
    "- Leia um número N;\n",
    "- Leia N números;\n",
    "- Imprima os números pares na saída."
   ]
  },
  {
   "cell_type": "code",
   "execution_count": 9,
   "id": "21fc1c03",
   "metadata": {},
   "outputs": [
    {
     "name": "stdout",
     "output_type": "stream",
     "text": [
      "2\n",
      "4\n",
      "6\n"
     ]
    }
   ],
   "source": [
    "#Solução do exercício 1.5\n",
    "n = int(input(\"Quantos números vai ler: \"))\n",
    "j = 1\n",
    "while n > 0:\n",
    "    k = int(input(\"Insira outro número \" + str(j) + \" :\"))\n",
    "    j = j + 1\n",
    "    if k % 2 == 0:\n",
    "        print (k)\n",
    "    n = n -1 "
   ]
  },
  {
   "cell_type": "markdown",
   "id": "bdcbffb0",
   "metadata": {},
   "source": [
    "### Exercício 2: O Maior de N números\n",
    "- Leia um número N;\n",
    "- Leia N números;\n",
    "- Imprima o maior dos N números."
   ]
  },
  {
   "cell_type": "code",
   "execution_count": 10,
   "id": "af973146-3bb4-4fa8-ba6c-b887b79ccff8",
   "metadata": {},
   "outputs": [
    {
     "name": "stdout",
     "output_type": "stream",
     "text": [
      "150\n"
     ]
    }
   ],
   "source": [
    "# Solução do exercício 2\n",
    "n = int(input(\"Quantos números vai ler: \"))\n",
    "j = 1\n",
    "maior = 1\n",
    "while n > 0:\n",
    "    k = int(input(\"Insira um número \" + str(j) + \" entre 1 e 1000 :\"))\n",
    "    if k > maior:\n",
    "        maior = k \n",
    "    j = j + 1\n",
    "    n = n -1 \n",
    "print (maior)"
   ]
  },
  {
   "cell_type": "markdown",
   "id": "bdcbffb0",
   "metadata": {},
   "source": [
    "### Exercício 3: O Menor de N números\n",
    "- Leia um número N;\n",
    "- Leia N números;\n",
    "- Imprima o menor dos N números."
   ]
  },
  {
   "cell_type": "code",
   "execution_count": 3,
   "id": "64ad6f7b",
   "metadata": {},
   "outputs": [],
   "source": [
    "# Solução do exercício 3\n",
    "n = int(input(\"Quantos números vai ler: \"))\n",
    "j = 1\n",
    "menor = 1000\n",
    "while n > 0:\n",
    "    k = int(input(\"Insira um número \" + str(j) + \" entre 1 e 1000 :\"))\n",
    "    if k < menor:\n",
    "        menor = k \n",
    "    j = j + 1\n",
    "    n = n -1 \n",
    "print (menor)"
   ]
  },
  {
   "cell_type": "markdown",
   "id": "bdcbffb0",
   "metadata": {},
   "source": [
    "### Exercício 4: A Média de N números\n",
    "- Leia um número N;\n",
    "- Leia N números;\n",
    "- Imprima a média dos N números."
   ]
  },
  {
   "cell_type": "code",
   "execution_count": 4,
   "id": "a6c32b2e",
   "metadata": {},
   "outputs": [],
   "source": [
    "# Solução do exercício 4\n",
    "n = int(input(\"Quantos números vai ler:\"))\n",
    "soma = 0\n",
    "j = 1\n",
    "while n > 0: \n",
    "    k = int(input(\"Insira um número para a adição \" + str(j) + \" :\"))\n",
    "    soma = soma + k\n",
    "    j = j + 1\n",
    "    n = n - 1\n",
    "média = soma / n\n",
    "print (média)"
   ]
  },
  {
   "cell_type": "markdown",
   "id": "46a52784",
   "metadata": {},
   "source": [
    "### Exercício 5: Potência\n",
    "- Defina uma função **pot** que recebe dois parâmetros, **a** e **b**, e retorna o resultado de **a elevado à potência de b**.\n",
    "- Use esta função para escrever no monitor as potências de 2 com expoentes de 1 a 20."
   ]
  },
  {
   "cell_type": "code",
   "execution_count": null,
   "id": "73ebf338",
   "metadata": {},
   "outputs": [],
   "source": [
    "# Solução do exercício 5\n",
    "def pot(a, b):\n",
    "    resultado = 1\n",
    "    while b > 0:\n",
    "        resultado = resultado * a\n",
    "        b = b -1 \n",
    "    return res\n",
    "\n",
    "expoente = 1\n",
    "while expoente <= 20: \n",
    "    print(expoente, pot(2,expoente))\n",
    "    expoente = expoente + 1"
   ]
  },
  {
   "cell_type": "markdown",
   "id": "a09b4add",
   "metadata": {},
   "source": [
    "### Exercício 6: Divisão inteira\n",
    "- Defina uma função **divisao** que recebe dois parâmetros **a** e **b** e retorna o resultado da **divisão inteira de a por b** (neste exercício não poderá usar as operações de divisão '/' e do resto '%').\n",
    "Utilize esta função para escrever no monitor o resultado da divisão por 7 dos números de 10 a 100."
   ]
  },
  {
   "cell_type": "code",
   "execution_count": null,
   "id": "36dbd5aa",
   "metadata": {},
   "outputs": [],
   "source": [
    "# Solução do exercício 6\n",
    "def divisao(a,b):\n",
    "    resultado = 0\n",
    "    while a >= b:\n",
    "        resultado = resultado + 1\n",
    "        a = a - b\n",
    "    return resultado\n",
    "\n",
    "limite = 10\n",
    "while limite <= 100:\n",
    "    print(limite, divisao(limite,7))\n",
    "    limite = limite + 1"
   ]
  },
  {
   "cell_type": "markdown",
   "id": "0490effe",
   "metadata": {},
   "source": [
    "### Exercício 7: Resto\n",
    "- Defina uma função **resto** que recebe dois parâmetros **a** e **b** e retorna o **resto da divisão inteira de a por b** (neste exercício não poderá usar as operações de divisão '/' e do resto '%').\n",
    "Utilize esta função para escrever no monitor o resto da divisão por 7 dos números de 10 a 100."
   ]
  },
  {
   "cell_type": "code",
   "execution_count": 1,
   "id": "20969cc9",
   "metadata": {},
   "outputs": [
    {
     "name": "stdout",
     "output_type": "stream",
     "text": [
      "10 3\n",
      "11 4\n",
      "12 5\n",
      "13 6\n",
      "14 0\n",
      "15 1\n",
      "16 2\n",
      "17 3\n",
      "18 4\n",
      "19 5\n",
      "20 6\n",
      "21 0\n",
      "22 1\n",
      "23 2\n",
      "24 3\n",
      "25 4\n",
      "26 5\n",
      "27 6\n",
      "28 0\n",
      "29 1\n",
      "30 2\n",
      "31 3\n",
      "32 4\n",
      "33 5\n",
      "34 6\n",
      "35 0\n",
      "36 1\n",
      "37 2\n",
      "38 3\n",
      "39 4\n",
      "40 5\n",
      "41 6\n",
      "42 0\n",
      "43 1\n",
      "44 2\n",
      "45 3\n",
      "46 4\n",
      "47 5\n",
      "48 6\n",
      "49 0\n",
      "50 1\n",
      "51 2\n",
      "52 3\n",
      "53 4\n",
      "54 5\n",
      "55 6\n",
      "56 0\n",
      "57 1\n",
      "58 2\n",
      "59 3\n",
      "60 4\n",
      "61 5\n",
      "62 6\n",
      "63 0\n",
      "64 1\n",
      "65 2\n",
      "66 3\n",
      "67 4\n",
      "68 5\n",
      "69 6\n",
      "70 0\n",
      "71 1\n",
      "72 2\n",
      "73 3\n",
      "74 4\n",
      "75 5\n",
      "76 6\n",
      "77 0\n",
      "78 1\n",
      "79 2\n",
      "80 3\n",
      "81 4\n",
      "82 5\n",
      "83 6\n",
      "84 0\n",
      "85 1\n",
      "86 2\n",
      "87 3\n",
      "88 4\n",
      "89 5\n",
      "90 6\n",
      "91 0\n",
      "92 1\n",
      "93 2\n",
      "94 3\n",
      "95 4\n",
      "96 5\n",
      "97 6\n",
      "98 0\n",
      "99 1\n",
      "100 2\n"
     ]
    }
   ],
   "source": [
    "# Solução do exercício 7  \n",
    "def divisao(a,b):\n",
    "    resultado = 0\n",
    "    while a >= b:\n",
    "        resultado = resultado + 1\n",
    "        a = a - b\n",
    "    return a\n",
    "\n",
    "limite = 10\n",
    "while limite <= 100:\n",
    "    print(limite, divisao(limite,7))\n",
    "    limite = limite + 1"
   ]
  },
  {
   "cell_type": "markdown",
   "id": "d11cdd11",
   "metadata": {},
   "source": [
    "### Exercício 8: Série numérica\n",
    "- Defina uma função **serie** que recebe três parâmetros, **base**, **salto** e **nelems**, e escreve no monitor a série;\n",
    "- Invocada com: **serie(7, 4, 5)** escreveria: 7, 11, 15, 19, 23"
   ]
  },
  {
   "cell_type": "code",
   "execution_count": 8,
   "id": "7549c7d7",
   "metadata": {},
   "outputs": [
    {
     "name": "stdout",
     "output_type": "stream",
     "text": [
      "7\n",
      "11\n",
      "15\n",
      "19\n",
      "23\n"
     ]
    }
   ],
   "source": [
    "# Solução do exercício 8\n",
    "def série(a,b,c):\n",
    "\n",
    "    while c > 0:\n",
    "        print(a)\n",
    "        a = a + b \n",
    "        c = c - 1\n",
    "        \n",
    "a=int(input(\"Insira um valor de a: \"))\n",
    "b=int(input(\"Insira um valor de b: \"))\n",
    "c=int(input(\"Insira um valor de c: \"))\n",
    "\n",
    "série(a,b,c)"
   ]
  },
  {
   "cell_type": "markdown",
   "id": "73187e87",
   "metadata": {},
   "source": [
    "### Exercício 9: Desenhar um quadrado\n",
    "- Defina uma função **quad** que recebe um parâmetro, **n**, e desenha no monitor um quadrado usando o caráter '#'."
   ]
  },
  {
   "cell_type": "code",
   "execution_count": 13,
   "id": "a31f8eaf",
   "metadata": {},
   "outputs": [
    {
     "name": "stdout",
     "output_type": "stream",
     "text": [
      "##\n",
      "##\n",
      "####\n",
      "####\n",
      "####\n",
      "####\n",
      "#######\n",
      "#######\n",
      "#######\n",
      "#######\n",
      "#######\n",
      "#######\n",
      "#######\n"
     ]
    }
   ],
   "source": [
    "# Solução do exercício 9\n",
    "def quad(n):\n",
    "    i = 0 \n",
    "    while n > i:\n",
    "        print(\"#\"*n)\n",
    "        i = i + 1\n",
    "\n",
    "quad(2)\n",
    "quad(4)\n",
    "quad(7)"
   ]
  },
  {
   "cell_type": "markdown",
   "id": "f4e2bc84",
   "metadata": {},
   "source": [
    "### Exercício 10: Índice de Massa Corporal\n",
    "- Defina uma função **imc** que recebe dois parâmetros, **peso**,**altura**, calcula o IMC corresponente e interpreta esse resultado.\n",
    "- imc(53,1.56) - Output: \"O seu índice de massa corporal é **21.78** e encontra-se na categoria **Normal**\"\n",
    "- imc(83,1.56) - Output: \"O seu índice de massa corporal é **34.11** e encontra-se na categoria **Obesidade grau I**\"\n",
    "\n",
    "Valores:\n",
    "- Menor que 18,5 - Baixo peso\n",
    "- 18,5 a 24,9 - Normal\n",
    "- 25 a 29,9\t- Excesso de peso\n",
    "- 30 a 34,9\t- Obesidade grau I\n",
    "- 35 a 39,9\t- Obesidade grau II\n",
    "- Maior que 40\t- Obesidade grau III"
   ]
  },
  {
   "cell_type": "code",
   "execution_count": 13,
   "id": "2a62004a",
   "metadata": {},
   "outputs": [
    {
     "name": "stdout",
     "output_type": "stream",
     "text": [
      "O seu índice de massa corporal é 21.78 e encontra-se na categoria Normal\n"
     ]
    }
   ],
   "source": [
    "# Solução do exercício 10\n",
    "def imc(peso,altura):\n",
    "    a=peso/(altura*altura)\n",
    "    a = round(a,2)\n",
    "    if a < 18.5:\n",
    "        print(\"O seu índice de massa corporal é \" + str(a) + \" e encontra-se na categoria Baixo peso\")\n",
    "    elif a < 24.9:\n",
    "             print(\"O seu índice de massa corporal é \" + str(a) + \" e encontra-se na categoria Normal\")\n",
    "    elif a < 29.9:\n",
    "                 print(\"O seu índice de massa corporal é \" + str(a) + \" e encontra-se na categoria Excesso de peso\")\n",
    "    elif a < 34.9:\n",
    "                     print(\"O seu índice de massa corporal é \" + str(a) + \" e encontra-se na categoria Obesodade grau I\")\n",
    "    elif a < 39.9:\n",
    "                        print(\"O seu índice de massa corporal é \" + str(a) + \" e encontra-se na categoria Obesodade grau II\")\n",
    "    else: print(\"O seu índice de massa corporal é \" + str(a) + \" e encontra-se na categoria Obesodade grau III\")\n",
    "\n",
    "peso=float(input(\"Insira o seu peso (kg): \"))\n",
    "altura=float(input(\"Insira a sua altura (m): \"))\n",
    "imc(peso,altura)\n"
   ]
  },
  {
   "cell_type": "markdown",
   "id": "7db89edf",
   "metadata": {},
   "source": [
    "## TPC3 : Adivinha o número?!\n",
    "\n",
    "Desenvolve em Python o código necessário para o jogo do Adivinha o número: \n",
    "* O jogo deverá ter dois modos: o computador tenta acertar no número que o jogador pensou ou, o jogador tenta acertar no número que o computador pensou; \n",
    "* No fim, o programa deverá indicar quantas tentativas foram realizadas para chegar ao resultado;\n",
    "* O Jogo: \n",
    "    - o utilizador pensa num número entre 0 e 100;\n",
    "    - o computador tenta adivinhar indicando um número do intervalo;\n",
    "    - o utilizador indica se o número em que pensou é **maior**, **menor**, ou se o computador **acertou**;\n",
    "    - ao terminar, o programa imprime o número de tentativas que o computador teve de fazer até chegar ao número.\n",
    "\n",
    "Que conclusão podes tirar sobre o número de tentativas necessárias para um número entre 0 e 100? E se fosse entre 0 e 1000?"
   ]
  },
  {
   "cell_type": "code",
   "execution_count": 1,
   "id": "fbcd2f2f",
   "metadata": {},
   "outputs": [
    {
     "name": "stdout",
     "output_type": "stream",
     "text": [
      "Inicio do jogo!\n",
      "1 - O computador tenta acertar o número em que pensaste, entre 0 e 100\n",
      "2 - Tu tenta acertar o número em que o computador pensou, entre 0 e 100\n"
     ]
    },
    {
     "name": "stdout",
     "output_type": "stream",
     "text": [
      "O número que escolhi foi o 60 é maior ou menor do que o número que pensaste?\n",
      "O número que escolhi foi o 80 é maior ou menor do que o número que pensaste?\n",
      "O número que escolhi foi o 70 é maior ou menor do que o número que pensaste?\n",
      "O computador acertou no número que pensaste após 4 tentativas!\n"
     ]
    }
   ],
   "source": [
    "#Resolução do TPC\n",
    "#fazemos o passo abaixo para importar a função randint\n",
    "\n",
    "from random import randint\n",
    "\n",
    "\n",
    "print(\"Inicio do jogo!\")\n",
    "print(\"1 - O computador tenta acertar o número em que pensaste, entre 0 e 100\")\n",
    "print(\"2 - Tu tenta acertar o número em que o computador pensou, entre 0 e 100\")\n",
    "\n",
    "modo= int(input(\"Escolha um modo de jogo: \"))\n",
    "\n",
    "if modo == 1:\n",
    "    tentativa = randint(0,100)\n",
    "    max = 100\n",
    "    min = 0\n",
    "    numtentativas = 0\n",
    "    print(\"O número que escolhi foi o \" + str(tentativa) + \" é maior ou menor do que o número que pensaste?\")\n",
    "    \n",
    "    while tentativa != 0:\n",
    "        numtentativas = numtentativas + 1\n",
    "        resposta = str(input(\"Resposta: \"))\n",
    "\n",
    "        if resposta == \"maior\":\n",
    "            max = tentativa \n",
    "            tentativa = int(min+((max-min)/2))\n",
    "            print(\"O número que escolhi foi o \" + str(tentativa) + \" é maior ou menor do que o número que pensaste?\")\n",
    "        elif resposta == \"menor\":\n",
    "            min = tentativa \n",
    "            tentativa = int(max-((max-min)/2))\n",
    "            print(\"O número que escolhi foi o \" + str(tentativa) + \" é maior ou menor do que o número que pensaste?\")\n",
    "        elif resposta == \"acertou\":\n",
    "            break\n",
    "    print(\"O computador acertou no número que pensaste após \" + str(numtentativas) + \" tentativas!\")\n",
    "\n",
    "\n",
    "\n",
    "if modo == 2:\n",
    "    ng = randint(0,100)\n",
    "    tentativa = float(input(\"Escolhe um número: \"))\n",
    "    numtentativas = 0\n",
    "    while ng != tentativa:\n",
    "        if ng > tentativa:\n",
    "            print(\"O número pensado é maior\")\n",
    "            tentativa = int(input(\"Escolhe um número: \"))\n",
    "            numtentativas = numtentativas + 1\n",
    "        elif ng < tentativa:\n",
    "            print(\"O número pensado é menor\")\n",
    "            tentativa = int(input(\"Escolhe um número: \"))\n",
    "            numtentativas = numtentativas + 1\n",
    "    print(\"Parabéns, acertaste no número pensado após \" + str(numtentativas) + \" tentativas!\")\n",
    "\n",
    "\n"
   ]
  }
 ],
 "metadata": {
  "kernelspec": {
   "display_name": "Python 3.9.7 64-bit",
   "language": "python",
   "name": "python3"
  },
  "language_info": {
   "codemirror_mode": {
    "name": "ipython",
    "version": 3
   },
   "file_extension": ".py",
   "mimetype": "text/x-python",
   "name": "python",
   "nbconvert_exporter": "python",
   "pygments_lexer": "ipython3",
   "version": "3.10.2"
  },
  "vscode": {
   "interpreter": {
    "hash": "916dbcbb3f70747c44a77c7bcd40155683ae19c65e1c03b4aa3499c5328201f1"
   }
  }
 },
 "nbformat": 4,
 "nbformat_minor": 5
}
