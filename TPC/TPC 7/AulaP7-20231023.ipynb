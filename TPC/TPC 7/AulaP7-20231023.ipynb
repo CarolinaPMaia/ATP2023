{
 "cells": [
  {
   "cell_type": "markdown",
   "id": "1e545158",
   "metadata": {},
   "source": [
    "# Aula Prática 7 (guião)\n",
    "### Semana de 23 a 27 de Outubro de 2022\n",
    "### José Carlos Ramalho e Luís Cunha\n",
    "### Sinopsis:\n",
    "Algoritmos e modelação de problemas com armazenamento em memória secundária."
   ]
  },
  {
   "cell_type": "markdown",
   "id": "dcbc2dd4",
   "metadata": {},
   "source": [
    "### Aquecimento: Calcula quantos números inteiros entre 1 e 10000 são múltiplos de 23 e devolve esse número (um múltiplo de 23 é um número que tem 23 como divisor).\n",
    "\n",
    "```\n",
    "def multiplos23():\n",
    "    ... \n",
    "    return ... \n",
    "```"
   ]
  },
  {
   "cell_type": "code",
   "execution_count": 1,
   "id": "20aa947a",
   "metadata": {},
   "outputs": [
    {
     "name": "stdout",
     "output_type": "stream",
     "text": [
      "434\n"
     ]
    }
   ],
   "source": [
    "def multiplos23():\n",
    "    res = []\n",
    "    for n in range (1, 10001):\n",
    "        if n % 23 == 0:\n",
    "            res.append(n)\n",
    "    return len(res)\n",
    "\n",
    "print(multiplos23())\n",
    "\n",
    "#def multiplos23():\n",
    "    #i = 23\n",
    "    #res = 0 \n",
    "    #while i <= 10000:\n",
    "        #i= i + 23\n",
    "        #res = res + 1\n",
    "    #return res\n",
    "\n",
    "#print (multiplos23())"
   ]
  },
  {
   "cell_type": "markdown",
   "id": "c59516f3",
   "metadata": {},
   "source": [
    "### Exercício 1: Considere os seguintes comentários que definem um modelo para guardar os registos de temperatura e precipitação ao longo de vários dias, materializado na variável tabMeteo1:"
   ]
  },
  {
   "cell_type": "code",
   "execution_count": 2,
   "id": "25a06fac",
   "metadata": {},
   "outputs": [],
   "source": [
    "# TabMeteo = [(Data,TempMin,TempMax,Precipitacao)]\n",
    "    # Data = (Int,Int,Int)\n",
    "    # TempMin = Float\n",
    "    # TempMax = Float\n",
    "    # Precipitacao = Float\n",
    "\n",
    "tabMeteo1 = [((2022,1,20), 2, 16, 0),((2022,1,21), 1, 13, 0.2)]"
   ]
  },
  {
   "cell_type": "markdown",
   "id": "7cdf50d5",
   "metadata": {},
   "source": [
    "### 1.a) Calcula a temperatura média de cada dia, dando como resultado uma lista de pares: [(data, temperaturaMédia)]:\n",
    "\n",
    "``` \n",
    "def medias(tabMeteo):\n",
    "    ... \n",
    "    return ... \n",
    "```"
   ]
  },
  {
   "cell_type": "code",
   "execution_count": 12,
   "id": "f8078761",
   "metadata": {},
   "outputs": [
    {
     "name": "stdout",
     "output_type": "stream",
     "text": [
      "[((2022, 1, 20), 9.0), ((2022, 1, 21), 7.0)]\n"
     ]
    }
   ],
   "source": [
    "def medias(tabMeteo):\n",
    "    res = []\n",
    "    for data, tmin, tmax, prec in tabMeteo:\n",
    "        temperaturaMédia = (tmin + tmax) / 2\n",
    "        res.append((data, temperaturaMédia))\n",
    "    return res\n",
    "\n",
    "print(medias(tabMeteo1))"
   ]
  },
  {
   "cell_type": "markdown",
   "id": "3b39567d",
   "metadata": {},
   "source": [
    "### 1.b) Define uma função para guardar uma tabela meteorológica num ficheiro de texto."
   ]
  },
  {
   "cell_type": "code",
   "execution_count": 3,
   "id": "45bb1ff7",
   "metadata": {},
   "outputs": [],
   "source": [
    "def guardaTabMeteo(t, fnome):\n",
    "    file = open(fnome, \"w\")\n",
    "\n",
    "    for data, tmin, tmax, prec in t:\n",
    "        registo = str(data[0]) + \" - \" + str(data[1]) + \" - \" + str(data[2])\n",
    "        registo = registo + \" ; \" + str(tmin) + \" ; \" + str(tmax) + \" ; \" + str(prec) + \"\\n\"\n",
    "        \n",
    "        file.write(registo)\n",
    "    file.close()\n",
    "\n",
    "\n",
    "guardaTabMeteo(tabMeteo1, \"metereologia.txt\")"
   ]
  },
  {
   "cell_type": "markdown",
   "id": "60595593",
   "metadata": {},
   "source": [
    "### 1.c) Define uma função para carregar uma tabela meteorológica de um ficheiro de texto."
   ]
  },
  {
   "cell_type": "code",
   "execution_count": 10,
   "id": "943e48f6",
   "metadata": {},
   "outputs": [
    {
     "name": "stdout",
     "output_type": "stream",
     "text": [
      "[((2022, 1, 20), 2.0, 16.0, 0.0), ((2022, 1, 21), 1.0, 13.0, 0.2)]\n"
     ]
    }
   ],
   "source": [
    "# line.split() retorna uma lista de strings que foram separadas pelo elemento que metemos dentro dos ()\n",
    "# line.strip() strip - corta, com o () corta espaços no fim e no início, tal como parágrafos, ...\n",
    "    \n",
    "def carregaTabMeteo(fnome):\n",
    "    file = open(fnome, \"r\")\n",
    "    res = []\n",
    "    for line in file:\n",
    "        line = line.strip()\n",
    "        campos = line.split(\";\")\n",
    "        data = campos[0].split(\"-\")\n",
    "        data = (int(data[0]), int(data[1]), int(data[2]))\n",
    "        tmin = float(campos[1])\n",
    "        tmax = float(campos[2])\n",
    "        prec = float(campos[3])\n",
    "\n",
    "        res.append((data, tmin, tmax, prec))\n",
    "        \n",
    "    file.close()\n",
    "    return res\n",
    "\n",
    "\n",
    "print(carregaTabMeteo(\"metereologia.txt\"))"
   ]
  },
  {
   "cell_type": "markdown",
   "id": "1c91a8f8",
   "metadata": {},
   "source": [
    "### 1.d) Calcula a temperatura mínima mais baixa registada na tabela, dando como resultado esse valor:\n",
    "\n",
    "``` \n",
    "def minMin(tabMeteo):\n",
    "    ... \n",
    "    return ... \n",
    "```"
   ]
  },
  {
   "cell_type": "code",
   "execution_count": 12,
   "id": "0c7ab659",
   "metadata": {},
   "outputs": [
    {
     "name": "stdout",
     "output_type": "stream",
     "text": [
      "1\n"
     ]
    }
   ],
   "source": [
    "def minMin(tabMeteo):\n",
    "    minimo = tabMeteo[0][1]\n",
    "\n",
    "    for _ , tmin, * _ in tabMeteo[1:]:\n",
    "        if tmin < minimo:\n",
    "            minimo = tmin\n",
    "    return minimo\n",
    "\n",
    "print(minMin(tabMeteo1))"
   ]
  },
  {
   "cell_type": "markdown",
   "id": "d13f2c34",
   "metadata": {},
   "source": [
    "### 1.e) Calcula a amplitude térmica (diferença entre a temperatura máxima e a temperatura mínima) de cada dia, dando como resultado uma lista de pares: [(data, amplitude)]\n",
    "\n",
    "``` \n",
    "def amplTerm(tabMeteo):\n",
    "    ... \n",
    "    return ... \n",
    "```"
   ]
  },
  {
   "cell_type": "code",
   "execution_count": 3,
   "id": "05ae6b71",
   "metadata": {},
   "outputs": [
    {
     "name": "stdout",
     "output_type": "stream",
     "text": [
      "[((2022, 1, 20), 14), ((2022, 1, 21), 12)]\n"
     ]
    }
   ],
   "source": [
    "def amplTerm(tabMeteo):\n",
    "    res = []\n",
    "    for data, tmin, tmax, prec in tabMeteo:\n",
    "        amplitudetermica = tmax - tmin\n",
    "        res.append((data, amplitudetermica))\n",
    "    return res\n",
    "\n",
    "print(amplTerm(tabMeteo1))"
   ]
  },
  {
   "cell_type": "markdown",
   "id": "364656ac",
   "metadata": {},
   "source": [
    "### 1.f) Calcula o dia em que a precipitação registada teve o seu valor máximo e indica esse valor, dando como resultado o par (data, valor):\n",
    "\n",
    "```\n",
    "def maxChuva(tabMeteo):\n",
    "    ... \n",
    "    return ... \n",
    "```"
   ]
  },
  {
   "cell_type": "code",
   "execution_count": 4,
   "id": "a7ecafee",
   "metadata": {},
   "outputs": [
    {
     "name": "stdout",
     "output_type": "stream",
     "text": [
      "[((2022, 1, 21), 0.2)]\n"
     ]
    }
   ],
   "source": [
    "def maxChuva(tabMeteo):\n",
    "    res = []\n",
    "    precmaxima = tabMeteo[0][3]\n",
    "    for data, tmin, tmax, prec in tabMeteo[1:]:\n",
    "        if prec > precmaxima:\n",
    "            precmaxima = prec\n",
    "            res.append((data, precmaxima))\n",
    "\n",
    "    return res\n",
    "\n",
    "print(maxChuva(tabMeteo1))"
   ]
  },
  {
   "cell_type": "markdown",
   "id": "f658ab20",
   "metadata": {},
   "source": [
    "### 1.g) Define uma função que recebe uma tabela meteorológica e um limite `p` e retorna uma lista de pares [(data, precipitação)] correspondente aos dias em que a precipitação foi superior a `p`.\n"
   ]
  },
  {
   "cell_type": "code",
   "execution_count": 5,
   "id": "885e6bdd",
   "metadata": {},
   "outputs": [
    {
     "data": {
      "text/plain": [
       "[((2022, 1, 21), 0.2)]"
      ]
     },
     "execution_count": 5,
     "metadata": {},
     "output_type": "execute_result"
    }
   ],
   "source": [
    "def diasChuvosos(tabMeteo, p):\n",
    "    res = []\n",
    "    for data, tmin, tmax, prec in tabMeteo:\n",
    "        if prec > p:\n",
    "            res.append((data, prec))\n",
    "    return res\n",
    "\n",
    "diasChuvosos(tabMeteo1, 0.1)"
   ]
  },
  {
   "cell_type": "markdown",
   "id": "4053559b",
   "metadata": {},
   "source": [
    "### 1.h) Define uma função que recebe uma tabela meteorológica e um limite `p` e retorna o maior número consecutivo de dias com precipitação abaixo desse limite."
   ]
  },
  {
   "cell_type": "code",
   "execution_count": 3,
   "id": "78ca2bb2",
   "metadata": {},
   "outputs": [
    {
     "data": {
      "text/plain": [
       "3"
      ]
     },
     "execution_count": 3,
     "metadata": {},
     "output_type": "execute_result"
    }
   ],
   "source": [
    "def maxPeriodoCalor(tabMeteo, p):\n",
    "    dconsecutivos = 0\n",
    "    maxdconsecutivos = 0\n",
    "\n",
    "    for data,tmin,tmax,prec in tabMeteo:\n",
    "        if prec < p:\n",
    "            dconsecutivos = dconsecutivos + 1\n",
    "            if dconsecutivos > maxdconsecutivos:\n",
    "                maxdconsecutivos = dconsecutivos\n",
    "        else:\n",
    "            dconsecutivos = 0\n",
    "    return maxdconsecutivos\n",
    "\n",
    "\n",
    "\n",
    "tabMeteo2 = [((2022,1,20), 2, 16, 0),((2022,1,21), 1, 13, 0.2), ((2022,2,15), 1, 15, 1), ((2022,3,15), 1, 12, 0.1), ((2022,3,16), 0, 14, 0), ((2022,3,17), 1, 11, 0.2)]\n",
    "\n",
    "maxPeriodoCalor(tabMeteo2, 0.3)"
   ]
  },
  {
   "cell_type": "markdown",
   "id": "6553af14",
   "metadata": {},
   "source": [
    "### 1.i) Define uma função que recebe uma tabela meteorológica e desenha os gráficos da temperatura mínima, máxima e de pluviosidade."
   ]
  },
  {
   "cell_type": "code",
   "execution_count": 12,
   "id": "02d30bba",
   "metadata": {},
   "outputs": [
    {
     "data": {
      "image/png": "[encoded data removed]",
      "text/plain": [
       "<Figure size 640x480 with 3 Axes>"
      ]
     },
     "metadata": {},
     "output_type": "display_data"
    }
   ],
   "source": [
    "import matplotlib.pyplot as plt\n",
    "\n",
    "\n",
    "def grafTabMeteo(tabMeteo):\n",
    "    data = [meteo[0] for meteo in tabMeteo]\n",
    "    tmin = [meteo[1] for meteo in tabMeteo]\n",
    "    tmax = [meteo[2] for meteo in tabMeteo]\n",
    "    prec = [meteo[3] for meteo in tabMeteo]\n",
    "\n",
    "    # Gráfico da temperatura mínima\n",
    "    plt.subplot(3, 1, 1)\n",
    "    plt.plot(data, tmin, color=\"blue\")\n",
    "    plt.title(\"Temperatura Mínima\")\n",
    "    plt.xlabel(\"Data\")\n",
    "    plt.ylabel(\"Temperatura (°C)\")\n",
    "\n",
    "    # Gráfico da temperatura máxima\n",
    "    plt.subplot(3, 1, 2)\n",
    "    plt.plot(data, tmax, color='red')\n",
    "    plt.title(\"Temperatura Máxima\")\n",
    "    plt.xlabel(\"Data\")\n",
    "    plt.ylabel(\"Temperatura (°C)\")\n",
    "    # Gráfico de pluviosidade\n",
    "    plt.subplot(3, 1, 3)\n",
    "    plt.plot(data, prec, color=\"green\")\n",
    "    plt.title(\"Pluviosidade\")\n",
    "    plt.xlabel(\"Data\")\n",
    "    plt.ylabel(\"Pluviosidade (mm)\")\n",
    "\n",
    "    plt.tight_layout()\n",
    "    plt.show()\n",
    "\n",
    "\n",
    "grafTabMeteo(tabMeteo2)"
   ]
  },
  {
   "cell_type": "markdown",
   "id": "c617f4f6",
   "metadata": {},
   "source": [
    "### 1.j) Coloca tudo numa aplicação externa ao notebook. "
   ]
  },
  {
   "cell_type": "code",
   "execution_count": null,
   "metadata": {},
   "outputs": [
    {
     "data": {
      "image/png": "[encoded data removed]",
      "text/plain": [
       "<Figure size 640x480 with 1 Axes>"
      ]
     },
     "metadata": {},
     "output_type": "display_data"
    },
    {
     "name": "stdout",
     "output_type": "stream",
     "text": [
      "None\n"
     ]
    }
   ],
   "source": [
    "#aquecimento do tpc \n",
    "\n",
    "def derivarPolinomio(p):\n",
    "    derivada = [] \n",
    "    for c,g in p:\n",
    "        if g !=0:\n",
    "            g2 = g - 1 \n",
    "            derivada.append((c*g, g2))\n",
    "    return derivada\n",
    "\n",
    "def somarPolinomios(p1,p2):\n",
    "    soma = []\n",
    "    i = 0\n",
    "    j = 0\n",
    "    while i < len(p1) and j < len(p2):\n",
    "        c1, g1 = p1[i]\n",
    "        c2, g2 = p2[j]\n",
    "\n",
    "        if g1 == g2:\n",
    "            soma.append((c1 + c2, g1))\n",
    "            i = i + 1\n",
    "            j = j + 1\n",
    "        elif g1 > g2:\n",
    "            soma.append((c1, g1))\n",
    "            i = i + 1\n",
    "        else:\n",
    "            soma.append((c2, g2))\n",
    "            j = j + 1\n",
    "\n",
    "    while i < len(p1):\n",
    "        c1, g1 = p1[i]\n",
    "        soma.append((c1, g1))\n",
    "        i = i + 1\n",
    "    \n",
    "    while j < len(p2):\n",
    "        c2, g2 = p2[j]\n",
    "        soma.append((c2, g2))\n",
    "        j = j + 1\n",
    "\n",
    "    return soma\n",
    "\n",
    "\n",
    "import matplotlib.pyplot as plt\n",
    "\n",
    "def pot(a,b):\n",
    "    res = 1\n",
    "    while b > 0:\n",
    "        res = res * a\n",
    "        b = b - 1 \n",
    "    return res \n",
    "    \n",
    "def calcPolinomio(p, x):\n",
    "    res = 0\n",
    "    for termo in p:\n",
    "        c = termo[0]\n",
    "        g = termo[1]\n",
    "        res = res + c * pot(x, g)\n",
    "    return res\n",
    "\n",
    "def grafPolinomio(p):\n",
    "\n",
    "    valores_x = []\n",
    "    valores_y = []\n",
    "\n",
    "    for x in range (0,11):\n",
    "        valores_x.append(x)\n",
    "        y = calcPolinomio(p,x)\n",
    "        valores_y.append(y)\n",
    "\n",
    "    plt.plot(valores_x, valores_y, color = \"blue\")\n",
    "    \n",
    "\n",
    "    plt.xlabel(\"Abcissas\")\n",
    "    plt.ylabel(\"Ordenadas\")\n",
    "\n",
    "    plt.title(\"Gráfico do polinómio\")\n",
    "\n",
    "    plt.show()\n",
    "\n",
    "print(grafPolinomio(p4))\n",
    "\n"
   ]
  },
  {
   "cell_type": "markdown",
   "id": "4193a91b",
   "metadata": {},
   "source": [
    "### TPC7: Construir uma aplicação para manipular polinómios\n",
    "\n",
    "Depois da aula da semana passada, já tens algumas funções desenvolvidas que te irão ajudar a construir a aplicação que se descreve a seguir.\n",
    "\n",
    "* Aquecimento: Instancia os seguintes exemplos num ficheiro de texto com o formato definido na última aula\n",
    "    - `x^7 - 7x^4 + 5x^3 - 88`\n",
    "    - `2x^2 + 17`\n",
    "    - `7x^4 + 6x^3 - x^2 + 43`\n",
    "    - `x^4`\n",
    "    - `x^2`\n",
    "    - `x^3`\n",
    "\n",
    "* Desenvolve as seguintes funcionalidades que não foram trabalhadas na aula:\n",
    "    1. Define uma função que dado um polinómio calcula a sua derivada;\n",
    "    2. Define uma função que recebe dois polinómios `p1` e `p2` e calcula um novo polinómio correspondente à soma de `p1` e `p2`;\n",
    "    3. Define uma função que recebe um polinómio e o desenha num gráfico.\n",
    "\n",
    "* Num ficheiro Python, cria uma aplicação para manipular polinómios com as seguintes operações:\n",
    "    1. Criar um polinómio interativamente;\n",
    "    2. Ler uma lista de polinómios de um ficheiro;\n",
    "    3. Listar polinómios: mostra numa tabela os polinómios carregados em memória, adicionando um número de ordem a cada um;\n",
    "    4. Calcular o valor de um polinómio num ponto (usa o número de ordem para referenciar o polinómio);\n",
    "    5. Listar polinómios com grau: à listagem anterior, acrescenta mais uma coluna com o grau;\n",
    "    6. Maior grau: mostra o polinómio de maior grau e indica o seu número de ordem;\n",
    "    7. Derivada: mostra uma tabela com os polinómios e as respetivas derivadas;\n",
    "    8. Somar dois polinómios: indicando os seus números de ordem;\n",
    "    9. Gerar um gráfico para o polinómio;\n",
    "    10. Gravar num ficheiro os polinómios em memória;\n",
    "    0. Sair da aplicação\n"
   ]
  },
  {
   "cell_type": "code",
   "execution_count": 22,
   "id": "5576b7a5",
   "metadata": {},
   "outputs": [],
   "source": [
    "p1 = [(1,7), (-7,4), (5,3), (88,0)]\n",
    "p2 = [(2,2), (17,0)]\n",
    "p2 = [(7,4), (6,3), (-1,2), (43,0)]\n",
    "p3 = [(1,4)]\n",
    "p4 = [(1,2)]\n",
    "p5 = [(1,3)]"
   ]
  },
  {
   "cell_type": "code",
   "execution_count": 59,
   "id": "dd2b9cd4",
   "metadata": {},
   "outputs": [],
   "source": [
    "def guardarPolinomios(listap, fnome):\n",
    "    file = open(fnome, \"w\")\n",
    "    for p in listap:\n",
    "        poli = []\n",
    "        for termo in p:\n",
    "            c, g = termo\n",
    "            file.write((str(c) + \" , \" + str(g)) + \" ; \") \n",
    "        file.write(\"\\n\")\n",
    "\n",
    "\n",
    "listap = [p1, p2, p3, p4, p5]\n",
    "guardarPolinomios(listap, \"PolinómiosTPC.txt\" )\n"
   ]
  },
  {
   "cell_type": "code",
   "execution_count": null,
   "id": "0a04941f",
   "metadata": {},
   "outputs": [],
   "source": [
    "# funçao 1 ----------------- \n",
    "\n",
    "def criaPolinomio():\n",
    "    resPol = []\n",
    "    g = int(input(\"Qual o grau do polinómio: \"))\n",
    "    while g >= 0:\n",
    "        c = int(input(\"Qual o coeficente para o grau \" + str(g) + \" :\"))\n",
    "        if c != 0:\n",
    "            termo = (c, g)\n",
    "            resPol.append(termo)\n",
    "        g = g - 1\n",
    "\n",
    "    return resPol \n",
    "\n",
    "\n",
    "# funçao 2 -----------------\n",
    "\n",
    "def lePolinomio(fnome):\n",
    "    res = []\n",
    "    file = open(fnome)\n",
    "    for linha in file:\n",
    "        pol = []\n",
    "        termos = linha.strip().split(\";\")\n",
    "        for t in termos:\n",
    "            monomio = t.split(\",\")\n",
    "            if len(monomio) >= 2:\n",
    "                c = monomio[0]\n",
    "                g = monomio[1]\n",
    "                pol.append((int(monomio[0]), int(monomio[1])))\n",
    "        res.append(pol)\n",
    "    file.close()\n",
    "    print (\"----------------------------------------------\")\n",
    "    return res\n",
    "\n",
    "\n",
    "# funçao 3 -----------------\n",
    "\n",
    "def tabelaPolinomio(fnome):\n",
    "    ordem = 1\n",
    "    file = open(fnome)\n",
    "    print (\"  Ordem      ||     Polinómio \")\n",
    "\n",
    "    for linha in file:\n",
    "        pol = []\n",
    "        termos = linha.split(\";\") \n",
    "        for t in termos:\n",
    "            res = \"\"\n",
    "            monomio = t.split(\",\")\n",
    "            if len(monomio) >= 2:\n",
    "                c = monomio[0]\n",
    "                g = monomio[1]\n",
    "                if int(c) < 0:\n",
    "                    res = res + str(c)\n",
    "                else:\n",
    "                    res = res + \"+\" + str(c)\n",
    "                if int(c) != 0:\n",
    "                    if g != 0:\n",
    "                        res = res + \"x^\" + str(g) \n",
    "                pol.append(res)\n",
    "        print ( \"    \" + str(ordem) + \"        ||     \" + ''.join(pol))\n",
    "        ordem = ordem + 1\n",
    "        print (\"----------------------------------------------\")\n",
    "    file.close()\n",
    "\n",
    "\n",
    "# funçao 4 -----------------\n",
    "\n",
    "def pot(a,b):\n",
    "    res = 1\n",
    "    while b > 0:\n",
    "        res = res * a\n",
    "        b = b - 1 \n",
    "    return res \n",
    "    \n",
    "\n",
    "def calcPolinomio(fnome, x, ordem):\n",
    "    polinomios = lePolinomio(fnome)\n",
    "    if 0 <= ordem < len(polinomios):\n",
    "        polinomioselcionado = polinomios[ordem-1]\n",
    "        res = 0\n",
    "        for termo in polinomioselcionado:\n",
    "            coe, grau = termo\n",
    "            res = res + coe * pot(x, grau)\n",
    "        return res\n",
    "    else:\n",
    "        return \"A ordem desejada não é válida no ficheiro\"\n",
    "\n",
    "\n",
    "#funçao 5 -----------------\n",
    "\n",
    "def tabelagrauPolinomio(fnome):\n",
    "    ordem = 1\n",
    "    file = open(fnome)\n",
    "    print (\"  Ordem      ||     Grau      ||     Polinómio \")\n",
    "\n",
    "    for linha in file:\n",
    "        pol = []\n",
    "        termos = linha.split(\";\") \n",
    "        grau = 0\n",
    "        for t in termos:\n",
    "            res = \"\"\n",
    "            monomio = t.split(\",\")\n",
    "            if len(monomio) >= 2:\n",
    "                c = monomio[0]\n",
    "                g = monomio[1]\n",
    "                if int(c) < 0:\n",
    "                    res = res + str(c)\n",
    "                else:\n",
    "                    res = res + \"+\" + str(c)\n",
    "                if int(c) != 0:\n",
    "                    if g != 0:\n",
    "                        res = res + \"x^\" + str(g)\n",
    "                        if int(g) > grau:\n",
    "                            grau = int(g)\n",
    "                pol.append(res)\n",
    "        print ( \"    \" + str(ordem) + \"        ||     \" + str(grau) + \"        ||     \" + ''.join(pol))\n",
    "        ordem = ordem + 1\n",
    "        print (\"----------------------------------------------\")\n",
    "    file.close()\n",
    "\n",
    "\n",
    "# funçao 6 -----------------\n",
    "\n",
    "def maiorgrauPolinomio(fnome):\n",
    "    file = open (fnome)\n",
    "    ordem = 1\n",
    "    maiorgrau = 0\n",
    "    polinomiomaiorgrau = None\n",
    "    ordemdopolmaiorgrau = None\n",
    "    for linha in file:\n",
    "        termos = linha.strip().split(\";\")\n",
    "        c,g = termos[0].split(\",\")\n",
    "        grauprimtermo = int(g)\n",
    "        if grauprimtermo > maiorgrau:\n",
    "            maiorgrau = grauprimtermo\n",
    "            polinomiomaiorgrau = linha.strip()\n",
    "            ordemdopolmaiorgrau = ordem\n",
    "        ordem = ordem + 1\n",
    "    file.close()\n",
    "    return \"O polímómio de maior grau tem ordem \" + str(ordemdopolmaiorgrau) + \" e grau \" + str(maiorgrau) + \" sendo o polinómio: \" + str(polinomiomaiorgrau)\n",
    "\n",
    "\n",
    "# funçao 7 ----------------- \n",
    "\n",
    "def derivarPolinomio(p):\n",
    "    derivada = [] \n",
    "    for termo in p:\n",
    "        if len(termo) >= 2:\n",
    "            c, g = termo\n",
    "            g = int(g)\n",
    "            if g != 0:\n",
    "                g2 = g - 1 \n",
    "                derivada.append((c*g, g2))\n",
    "    return derivada\n",
    "\n",
    "def tabelaDerivadas(fnome):\n",
    "    file = open(fnome)\n",
    "    print(\" Polinómio      ||  Derivada   \")\n",
    "    for linha in file:\n",
    "        print(linha)\n",
    "        termos  = linha.strip().split(\";\")\n",
    "        print(termos)\n",
    "        for t in termos:\n",
    "            termo = termos[0].split(\",\")\n",
    "            print(termo)\n",
    "            d = derivarPolinomio(termo)\n",
    "        polinomio = linha.strip()\n",
    "    return str(polinomio) + \"      ||  \" + str(d)\n",
    "\n",
    "\n",
    "# funçao 8 -----------------\n",
    "\n",
    "def somarPolinomios(fnome, ordem1, ordem2):\n",
    "    polinomios = lePolinomio(fnome)\n",
    "    soma = []\n",
    "    ordem = 1\n",
    "    if 0 <= ordem1 <= len(polinomios) and 0 <= ordem2 <= len(polinomios):\n",
    "        p1 = polinomios[ordem1 - 1]\n",
    "        p2 = polinomios[ordem2 - 1] \n",
    "        i = 0\n",
    "        j = 0\n",
    "        if len(p1) and len(p2) >= 2:\n",
    "\n",
    "            while i < len(p1) and j < len(p2):\n",
    "                c1, g1 = p1[i]\n",
    "                c2, g2 = p2[j]\n",
    "\n",
    "                if g1 == g2:\n",
    "                    soma.append((c1 + c2, g1))\n",
    "                    i = i + 1\n",
    "                    j = j + 1\n",
    "                elif g1 > g2:\n",
    "                    soma.append((c1, g1))\n",
    "                    i = i + 1\n",
    "                else:\n",
    "                    soma.append((c2, g2))\n",
    "                    j = j + 1\n",
    "\n",
    "            while i < len(p1):\n",
    "                c1, g1 = p1[i]\n",
    "                soma.append((c1, g1))\n",
    "                i = i + 1\n",
    "            \n",
    "            while j < len(p2):\n",
    "                c2, g2 = p2[j]\n",
    "                soma.append((c2, g2))\n",
    "                j = j + 1\n",
    "\n",
    "        return \"A soma dos polinómios de ordens \" + str(ordem1) + \" e \" + str(ordem2) + \" é \" + str(soma)\n",
    "    else:\n",
    "        return \"As ordens desejadas não são válidas no ficheiro\"\n",
    "    \n",
    "    \n",
    "# funçao 9 -----------------\n",
    "\n",
    "import matplotlib.pyplot as plt\n",
    "\n",
    "def grafPolinomio(fnome, ordem):\n",
    "    polinomios = lePolinomio(fnome)\n",
    "\n",
    "    if 1 <= ordem <= len(polinomios):\n",
    "        p = polinomios[ordem-1]\n",
    "\n",
    "        valores_x = []\n",
    "        valores_y = []\n",
    "\n",
    "        for x in range (0,11):\n",
    "            valores_x.append(x)\n",
    "            y = calcPolinomio(p,x,ordem)\n",
    "            valores_y.append(y)\n",
    "\n",
    "        plt.plot(valores_x, valores_y, color = \"blue\")\n",
    "        \n",
    "\n",
    "        plt.xlabel(\"Abcissas\")\n",
    "        plt.ylabel(\"Ordenadas\")\n",
    "\n",
    "        plt.title(\"Gráfico do polinómio\")\n",
    "\n",
    "        plt.show()\n",
    "\n",
    "\n",
    "# funçao 10 ----------------- \n",
    "\n",
    "def guardarPolinomios(listap, fnome):\n",
    "    file = open(fnome, \"w\")\n",
    "    for p in listap:\n",
    "        poli = []\n",
    "        for termo in p:\n",
    "            c, g = termo\n",
    "            file.write((str(c) + \" , \" + str(g)) + \" ; \") \n",
    "        file.write(\"\\n\")\n",
    "\n",
    "\n",
    "# MENU -----------------\n",
    "\n",
    "def menu():\n",
    "    print(\"\"\"(1) Criar um polinómio;\n",
    "    (2) Ler lista de polinómios;\n",
    "    (3) Tabela de polinómios;\n",
    "    (4) Calcular o polinómio num ponto;\n",
    "    (5) Tabela de polinómios com grau;\n",
    "    (6) Polinómio de maior grau;\n",
    "    (7) Tabela das derivadas de polinómios;\n",
    "    (8) Somar dois polinómios;\n",
    "    (9) Gráfico de um polinómio;\n",
    "    (10) Gravar os polinómios em ficheiro;\n",
    "    (0) Sair\"\"\")\n",
    "\n",
    "\n",
    "print(menu())\n",
    "opc = int(input(\"Qual a opção que deseja?\"))\n",
    "while opc != 0:\n",
    "    if opc == 1:\n",
    "       criaPolinomio()\n",
    "       print(menu())\n",
    "       opc = int(input(\"Qual a opção que deseja?\"))\n",
    "    if opc == 2:\n",
    "        print(lePolinomio(\"PolinómiosTPC.txt\"))\n",
    "        print(menu())\n",
    "        opc = int(input(\"Qual a opção que deseja?\"))\n",
    "    if opc == 3:\n",
    "        tabelaPolinomio(\"PolinómiosTPC.txt\")\n",
    "        print(menu())\n",
    "        opc = int(input(\"Qual a opção que deseja?\"))\n",
    "    if opc== 4:\n",
    "        x = int(input(\"Qual é o valor de x que deseja?\"))\n",
    "        ordem = int(input(\"Qual a ordem do polinómio que deseja?\"))\n",
    "        print(calcPolinomio(\"PolinómiosTPC.txt\",x, ordem))\n",
    "        print(menu())\n",
    "        opc = int(input(\"Qual a opção que deseja?\"))\n",
    "    if opc == 5:\n",
    "        tabelagrauPolinomio(\"PolinómiosTPC.txt\")\n",
    "        print(menu())\n",
    "        opc = int(input(\"Qual a opção que deseja?\"))\n",
    "    if opc == 6:\n",
    "        maiorgrauPolinomio(\"PolinómiosTPC.txt\")\n",
    "        print(menu())\n",
    "        opc = int(input(\"Qual a opção que deseja?\"))\n",
    "    if opc == 7:\n",
    "        tabelaDerivadas(\"PolinómiosTPC.txt\")\n",
    "        print(menu())\n",
    "        opc = int(input(\"Qual a opção que deseja?\"))\n",
    "    if opc == 8:\n",
    "       ordem1 = int(input(\"Qual é a ordem do primeiro polinómio?\"))\n",
    "       ordem2 = int(input(\"Qual é a ordem do segundo polinómio?\"))\n",
    "       somarPolinomios(\"PolinómiosTPC.txt\", ordem1, ordem2)\n",
    "       print(menu())\n",
    "       opc = int(input(\"Qual a opção que deseja?\"))\n",
    "    if opc == 9:\n",
    "       ordem = int(input(\"Qual a ordem do polinómio que deseja?\"))\n",
    "       grafPolinomio(\"PolinómiosTPC.txt\", ordem) \n",
    "       print(menu())\n",
    "       opc = int(input(\"Qual a opção que deseja?\"))\n",
    "    if opc == 10:\n",
    "        guardarPolinomios(\"PolinómiosTPC.txt\") \n",
    "        print(menu())   \n",
    "        opc = int(input(\"Qual a opção que deseja?\"))\n",
    "if opc == 0:\n",
    "    print(\"A aplicação terminou! Até à próxima!\")\n",
    "\n",
    "\n"
   ]
  }
 ],
 "metadata": {
  "kernelspec": {
   "display_name": "Python 3.9.1 64-bit",
   "language": "python",
   "name": "python3"
  },
  "language_info": {
   "codemirror_mode": {
    "name": "ipython",
    "version": 3
   },
   "file_extension": ".py",
   "mimetype": "text/x-python",
   "name": "python",
   "nbconvert_exporter": "python",
   "pygments_lexer": "ipython3",
   "version": "3.10.2"
  },
  "vscode": {
   "interpreter": {
    "hash": "aee8b7b246df8f9039afb4144a1f6fd8d2ca17a180786b69acc140d282b71a49"
   }
  }
 },
 "nbformat": 4,
 "nbformat_minor": 5
}
